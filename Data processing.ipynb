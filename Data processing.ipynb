{
 "cells": [
  {
   "cell_type": "markdown",
   "metadata": {},
   "source": [
    "After data cleaning, lets open the file.\n",
    "I've saved the clean data it in two formats:\n",
    "* The original format (csv) - With a dictionary with the optimal types of each column to make easier open it.\n",
    "\n",
    "* In parquet format, that is used to manage big amounts of data.\n",
    "\n",
    "Obviously, parquet format is 4 times faster, so I will use it. However, I will leave the procedure of opening the file with .pickle  dictionary commented."
   ]
  },
  {
   "cell_type": "code",
   "execution_count": 22,
   "metadata": {},
   "outputs": [],
   "source": [
    "import pandas as pd\n",
    "import numpy as np\n",
    "import pyarrow.parquet as pq\n",
    "from scipy.spatial import distance_matrix\n",
    "import seaborn as sns\n",
    "import matplotlib.pyplot as plt\n"
   ]
  },
  {
   "cell_type": "markdown",
   "metadata": {},
   "source": [
    "##### How to open the csv file with .pickle dictionary\n",
    "\n",
    "import pickle\n",
    "\n",
    "with open('./data/fileformat.pickle', 'rb') as handle:\n",
    "    file_format = pickle.load(handle)\n",
    "file_format\n",
    "\n",
    "bank = pd.read_csv('./data/clean_train.csv', dtype=file_format)\n",
    "bank.head()"
   ]
  },
  {
   "cell_type": "markdown",
   "metadata": {},
   "source": [
    "##### How to open entire dataframe with parquet\n",
    "\n",
    "%%time\n",
    "\n",
    "table2 = pq.read_table('./data/clean_train.parquet')\n",
    "bank = table2.to_pandas()"
   ]
  },
  {
   "cell_type": "markdown",
   "metadata": {},
   "source": [
    "### Now, I open the sample dataframe to create my model"
   ]
  },
  {
   "cell_type": "code",
   "execution_count": 13,
   "metadata": {},
   "outputs": [
    {
     "name": "stdout",
     "output_type": "stream",
     "text": [
      "CPU times: user 2.01 s, sys: 476 ms, total: 2.48 s\n",
      "Wall time: 664 ms\n"
     ]
    }
   ],
   "source": [
    "%%time\n",
    "\n",
    "table2 = pq.read_table('./data/clean_train_sample.parquet')\n",
    "bank = table2.to_pandas()"
   ]
  },
  {
   "cell_type": "code",
   "execution_count": 14,
   "metadata": {
    "scrolled": true
   },
   "outputs": [
    {
     "name": "stdout",
     "output_type": "stream",
     "text": [
      "<class 'pandas.core.frame.DataFrame'>\n",
      "Int64Index: 1084733 entries, 21 to 13647305\n",
      "Data columns (total 47 columns):\n",
      "fecha_dato               1084733 non-null object\n",
      "ncodpers                 1084733 non-null int32\n",
      "ind_empleado             1084733 non-null object\n",
      "pais_residencia          1084733 non-null object\n",
      "sexo                     1084733 non-null object\n",
      "age                      1084733 non-null int8\n",
      "fecha_alta               1084733 non-null object\n",
      "ind_nuevo                1084733 non-null float32\n",
      "antiguedad               1084733 non-null int16\n",
      "indrel                   1084733 non-null float32\n",
      "ult_fec_cli_1t           1084733 non-null object\n",
      "indrel_1mes              1084733 non-null object\n",
      "tiprel_1mes              1084733 non-null object\n",
      "indresi                  1084733 non-null object\n",
      "indext                   1084733 non-null object\n",
      "conyuemp                 1084733 non-null object\n",
      "canal_entrada            1084733 non-null object\n",
      "indfall                  1084733 non-null object\n",
      "tipodom                  1084733 non-null float32\n",
      "nomprov                  1084733 non-null object\n",
      "ind_actividad_cliente    1084733 non-null float32\n",
      "renta                    1084733 non-null float32\n",
      "segmento                 1084733 non-null object\n",
      "ind_ahor_fin_ult1        1084733 non-null int8\n",
      "ind_aval_fin_ult1        1084733 non-null int8\n",
      "ind_cco_fin_ult1         1084733 non-null int8\n",
      "ind_cder_fin_ult1        1084733 non-null int8\n",
      "ind_cno_fin_ult1         1084733 non-null int8\n",
      "ind_ctju_fin_ult1        1084733 non-null int8\n",
      "ind_ctma_fin_ult1        1084733 non-null int8\n",
      "ind_ctop_fin_ult1        1084733 non-null int8\n",
      "ind_ctpp_fin_ult1        1084733 non-null int8\n",
      "ind_deco_fin_ult1        1084733 non-null int8\n",
      "ind_deme_fin_ult1        1084733 non-null int8\n",
      "ind_dela_fin_ult1        1084733 non-null int8\n",
      "ind_ecue_fin_ult1        1084733 non-null int8\n",
      "ind_fond_fin_ult1        1084733 non-null int8\n",
      "ind_hip_fin_ult1         1084733 non-null int8\n",
      "ind_plan_fin_ult1        1084733 non-null int8\n",
      "ind_pres_fin_ult1        1084733 non-null int8\n",
      "ind_reca_fin_ult1        1084733 non-null int8\n",
      "ind_tjcr_fin_ult1        1084733 non-null int8\n",
      "ind_valo_fin_ult1        1084733 non-null int8\n",
      "ind_viv_fin_ult1         1084733 non-null int8\n",
      "ind_nomina_ult1          1084733 non-null float32\n",
      "ind_nom_pens_ult1        1084733 non-null float32\n",
      "ind_recibo_ult1          1084733 non-null int8\n",
      "dtypes: float32(7), int16(1), int32(1), int8(23), object(15)\n",
      "memory usage: 1.1 GB\n"
     ]
    }
   ],
   "source": [
    "bank.info(memory_usage='deep')"
   ]
  },
  {
   "cell_type": "code",
   "execution_count": 15,
   "metadata": {
    "scrolled": true
   },
   "outputs": [
    {
     "data": {
      "text/html": [
       "<div>\n",
       "<style scoped>\n",
       "    .dataframe tbody tr th:only-of-type {\n",
       "        vertical-align: middle;\n",
       "    }\n",
       "\n",
       "    .dataframe tbody tr th {\n",
       "        vertical-align: top;\n",
       "    }\n",
       "\n",
       "    .dataframe thead th {\n",
       "        text-align: right;\n",
       "    }\n",
       "</style>\n",
       "<table border=\"1\" class=\"dataframe\">\n",
       "  <thead>\n",
       "    <tr style=\"text-align: right;\">\n",
       "      <th></th>\n",
       "      <th>fecha_dato</th>\n",
       "      <th>ncodpers</th>\n",
       "      <th>ind_empleado</th>\n",
       "      <th>pais_residencia</th>\n",
       "      <th>sexo</th>\n",
       "      <th>age</th>\n",
       "      <th>fecha_alta</th>\n",
       "      <th>ind_nuevo</th>\n",
       "      <th>antiguedad</th>\n",
       "      <th>indrel</th>\n",
       "      <th>...</th>\n",
       "      <th>ind_hip_fin_ult1</th>\n",
       "      <th>ind_plan_fin_ult1</th>\n",
       "      <th>ind_pres_fin_ult1</th>\n",
       "      <th>ind_reca_fin_ult1</th>\n",
       "      <th>ind_tjcr_fin_ult1</th>\n",
       "      <th>ind_valo_fin_ult1</th>\n",
       "      <th>ind_viv_fin_ult1</th>\n",
       "      <th>ind_nomina_ult1</th>\n",
       "      <th>ind_nom_pens_ult1</th>\n",
       "      <th>ind_recibo_ult1</th>\n",
       "    </tr>\n",
       "  </thead>\n",
       "  <tbody>\n",
       "    <tr>\n",
       "      <th>21</th>\n",
       "      <td>2015-01-28</td>\n",
       "      <td>1050586</td>\n",
       "      <td>N</td>\n",
       "      <td>ES</td>\n",
       "      <td>V</td>\n",
       "      <td>23</td>\n",
       "      <td>2012-08-10</td>\n",
       "      <td>0.0</td>\n",
       "      <td>35</td>\n",
       "      <td>1.0</td>\n",
       "      <td>...</td>\n",
       "      <td>0</td>\n",
       "      <td>0</td>\n",
       "      <td>0</td>\n",
       "      <td>0</td>\n",
       "      <td>0</td>\n",
       "      <td>0</td>\n",
       "      <td>0</td>\n",
       "      <td>0.0</td>\n",
       "      <td>0.0</td>\n",
       "      <td>1</td>\n",
       "    </tr>\n",
       "    <tr>\n",
       "      <th>30</th>\n",
       "      <td>2015-01-28</td>\n",
       "      <td>1050599</td>\n",
       "      <td>N</td>\n",
       "      <td>ES</td>\n",
       "      <td>V</td>\n",
       "      <td>24</td>\n",
       "      <td>2012-08-10</td>\n",
       "      <td>0.0</td>\n",
       "      <td>35</td>\n",
       "      <td>1.0</td>\n",
       "      <td>...</td>\n",
       "      <td>0</td>\n",
       "      <td>0</td>\n",
       "      <td>0</td>\n",
       "      <td>0</td>\n",
       "      <td>0</td>\n",
       "      <td>0</td>\n",
       "      <td>0</td>\n",
       "      <td>0.0</td>\n",
       "      <td>0.0</td>\n",
       "      <td>0</td>\n",
       "    </tr>\n",
       "    <tr>\n",
       "      <th>38</th>\n",
       "      <td>2015-01-28</td>\n",
       "      <td>1050630</td>\n",
       "      <td>N</td>\n",
       "      <td>ES</td>\n",
       "      <td>V</td>\n",
       "      <td>22</td>\n",
       "      <td>2012-08-10</td>\n",
       "      <td>0.0</td>\n",
       "      <td>35</td>\n",
       "      <td>1.0</td>\n",
       "      <td>...</td>\n",
       "      <td>0</td>\n",
       "      <td>0</td>\n",
       "      <td>0</td>\n",
       "      <td>0</td>\n",
       "      <td>0</td>\n",
       "      <td>0</td>\n",
       "      <td>0</td>\n",
       "      <td>0.0</td>\n",
       "      <td>0.0</td>\n",
       "      <td>0</td>\n",
       "    </tr>\n",
       "    <tr>\n",
       "      <th>43</th>\n",
       "      <td>2015-01-28</td>\n",
       "      <td>1050680</td>\n",
       "      <td>N</td>\n",
       "      <td>ES</td>\n",
       "      <td>V</td>\n",
       "      <td>53</td>\n",
       "      <td>2012-08-10</td>\n",
       "      <td>0.0</td>\n",
       "      <td>35</td>\n",
       "      <td>1.0</td>\n",
       "      <td>...</td>\n",
       "      <td>0</td>\n",
       "      <td>0</td>\n",
       "      <td>0</td>\n",
       "      <td>0</td>\n",
       "      <td>0</td>\n",
       "      <td>0</td>\n",
       "      <td>0</td>\n",
       "      <td>0.0</td>\n",
       "      <td>0.0</td>\n",
       "      <td>0</td>\n",
       "    </tr>\n",
       "    <tr>\n",
       "      <th>49</th>\n",
       "      <td>2015-01-28</td>\n",
       "      <td>1050703</td>\n",
       "      <td>N</td>\n",
       "      <td>ES</td>\n",
       "      <td>V</td>\n",
       "      <td>23</td>\n",
       "      <td>2012-08-10</td>\n",
       "      <td>0.0</td>\n",
       "      <td>35</td>\n",
       "      <td>1.0</td>\n",
       "      <td>...</td>\n",
       "      <td>0</td>\n",
       "      <td>0</td>\n",
       "      <td>0</td>\n",
       "      <td>0</td>\n",
       "      <td>0</td>\n",
       "      <td>0</td>\n",
       "      <td>0</td>\n",
       "      <td>0.0</td>\n",
       "      <td>0.0</td>\n",
       "      <td>0</td>\n",
       "    </tr>\n",
       "  </tbody>\n",
       "</table>\n",
       "<p>5 rows × 47 columns</p>\n",
       "</div>"
      ],
      "text/plain": [
       "    fecha_dato  ncodpers ind_empleado pais_residencia sexo  age  fecha_alta  \\\n",
       "21  2015-01-28   1050586            N              ES    V   23  2012-08-10   \n",
       "30  2015-01-28   1050599            N              ES    V   24  2012-08-10   \n",
       "38  2015-01-28   1050630            N              ES    V   22  2012-08-10   \n",
       "43  2015-01-28   1050680            N              ES    V   53  2012-08-10   \n",
       "49  2015-01-28   1050703            N              ES    V   23  2012-08-10   \n",
       "\n",
       "    ind_nuevo  antiguedad  indrel  ... ind_hip_fin_ult1 ind_plan_fin_ult1  \\\n",
       "21        0.0          35     1.0  ...                0                 0   \n",
       "30        0.0          35     1.0  ...                0                 0   \n",
       "38        0.0          35     1.0  ...                0                 0   \n",
       "43        0.0          35     1.0  ...                0                 0   \n",
       "49        0.0          35     1.0  ...                0                 0   \n",
       "\n",
       "   ind_pres_fin_ult1 ind_reca_fin_ult1 ind_tjcr_fin_ult1 ind_valo_fin_ult1  \\\n",
       "21                 0                 0                 0                 0   \n",
       "30                 0                 0                 0                 0   \n",
       "38                 0                 0                 0                 0   \n",
       "43                 0                 0                 0                 0   \n",
       "49                 0                 0                 0                 0   \n",
       "\n",
       "   ind_viv_fin_ult1 ind_nomina_ult1  ind_nom_pens_ult1 ind_recibo_ult1  \n",
       "21                0             0.0                0.0               1  \n",
       "30                0             0.0                0.0               0  \n",
       "38                0             0.0                0.0               0  \n",
       "43                0             0.0                0.0               0  \n",
       "49                0             0.0                0.0               0  \n",
       "\n",
       "[5 rows x 47 columns]"
      ]
     },
     "execution_count": 15,
     "metadata": {},
     "output_type": "execute_result"
    }
   ],
   "source": [
    "bank.head()"
   ]
  },
  {
   "cell_type": "markdown",
   "metadata": {},
   "source": [
    "After data cleaning, we have to process our data in order to make a good model.\n",
    "\n",
    "First, lets change the types of each column to ease the process, then I will use a distance matrix"
   ]
  },
  {
   "cell_type": "code",
   "execution_count": 16,
   "metadata": {},
   "outputs": [],
   "source": [
    "bank['fecha_dato'] = pd.to_datetime(bank['fecha_dato'], errors='coerce', infer_datetime_format=True, format=\"%Y-%m-%d\")\n",
    "bank['fecha_alta'] = pd.to_datetime(bank['fecha_alta'], errors='coerce', infer_datetime_format=True, format=\"%Y-%m-%d\")"
   ]
  },
  {
   "cell_type": "code",
   "execution_count": 17,
   "metadata": {},
   "outputs": [],
   "source": [
    "obj_cols = ['ind_empleado', 'pais_residencia', 'sexo', 'ult_fec_cli_1t', 'indrel_1mes', 'tiprel_1mes', 'indresi', \n",
    "            'indext', 'conyuemp', 'canal_entrada', 'indfall', 'nomprov', 'segmento']\n",
    "\n",
    "for col in obj_cols:\n",
    "    bank[col] = bank[col].astype('category')"
   ]
  },
  {
   "cell_type": "code",
   "execution_count": 18,
   "metadata": {
    "scrolled": true
   },
   "outputs": [
    {
     "name": "stdout",
     "output_type": "stream",
     "text": [
      "<class 'pandas.core.frame.DataFrame'>\n",
      "Int64Index: 1084733 entries, 21 to 13647305\n",
      "Data columns (total 47 columns):\n",
      "fecha_dato               1084733 non-null datetime64[ns]\n",
      "ncodpers                 1084733 non-null int32\n",
      "ind_empleado             1084733 non-null category\n",
      "pais_residencia          1084733 non-null category\n",
      "sexo                     1084733 non-null category\n",
      "age                      1084733 non-null int8\n",
      "fecha_alta               1084733 non-null datetime64[ns]\n",
      "ind_nuevo                1084733 non-null float32\n",
      "antiguedad               1084733 non-null int16\n",
      "indrel                   1084733 non-null float32\n",
      "ult_fec_cli_1t           1084733 non-null category\n",
      "indrel_1mes              1084733 non-null category\n",
      "tiprel_1mes              1084733 non-null category\n",
      "indresi                  1084733 non-null category\n",
      "indext                   1084733 non-null category\n",
      "conyuemp                 1084733 non-null category\n",
      "canal_entrada            1084733 non-null category\n",
      "indfall                  1084733 non-null category\n",
      "tipodom                  1084733 non-null float32\n",
      "nomprov                  1084733 non-null category\n",
      "ind_actividad_cliente    1084733 non-null float32\n",
      "renta                    1084733 non-null float32\n",
      "segmento                 1084733 non-null category\n",
      "ind_ahor_fin_ult1        1084733 non-null int8\n",
      "ind_aval_fin_ult1        1084733 non-null int8\n",
      "ind_cco_fin_ult1         1084733 non-null int8\n",
      "ind_cder_fin_ult1        1084733 non-null int8\n",
      "ind_cno_fin_ult1         1084733 non-null int8\n",
      "ind_ctju_fin_ult1        1084733 non-null int8\n",
      "ind_ctma_fin_ult1        1084733 non-null int8\n",
      "ind_ctop_fin_ult1        1084733 non-null int8\n",
      "ind_ctpp_fin_ult1        1084733 non-null int8\n",
      "ind_deco_fin_ult1        1084733 non-null int8\n",
      "ind_deme_fin_ult1        1084733 non-null int8\n",
      "ind_dela_fin_ult1        1084733 non-null int8\n",
      "ind_ecue_fin_ult1        1084733 non-null int8\n",
      "ind_fond_fin_ult1        1084733 non-null int8\n",
      "ind_hip_fin_ult1         1084733 non-null int8\n",
      "ind_plan_fin_ult1        1084733 non-null int8\n",
      "ind_pres_fin_ult1        1084733 non-null int8\n",
      "ind_reca_fin_ult1        1084733 non-null int8\n",
      "ind_tjcr_fin_ult1        1084733 non-null int8\n",
      "ind_valo_fin_ult1        1084733 non-null int8\n",
      "ind_viv_fin_ult1         1084733 non-null int8\n",
      "ind_nomina_ult1          1084733 non-null float32\n",
      "ind_nom_pens_ult1        1084733 non-null float32\n",
      "ind_recibo_ult1          1084733 non-null int8\n",
      "dtypes: category(13), datetime64[ns](2), float32(7), int16(1), int32(1), int8(23)\n",
      "memory usage: 99.3 MB\n"
     ]
    }
   ],
   "source": [
    "bank.info(memory_usage='deep')"
   ]
  },
  {
   "cell_type": "code",
   "execution_count": 19,
   "metadata": {
    "scrolled": true
   },
   "outputs": [
    {
     "data": {
      "text/plain": [
       "(1084733, 47)"
      ]
     },
     "execution_count": 19,
     "metadata": {},
     "output_type": "execute_result"
    }
   ],
   "source": [
    "bank.shape"
   ]
  },
  {
   "cell_type": "markdown",
   "metadata": {},
   "source": [
    "Let's check relationships between values:"
   ]
  },
  {
   "cell_type": "code",
   "execution_count": 20,
   "metadata": {},
   "outputs": [],
   "source": [
    "correlation = bank.corr(method='pearson', min_periods=1)"
   ]
  },
  {
   "cell_type": "code",
   "execution_count": 23,
   "metadata": {},
   "outputs": [
    {
     "data": {
      "image/png": "[encoded data removed]",
      "text/plain": [
       "<Figure size 864x720 with 2 Axes>"
      ]
     },
     "metadata": {
      "needs_background": "light"
     },
     "output_type": "display_data"
    }
   ],
   "source": [
    "plt.figure(figsize=(12,10))\n",
    "sns.heatmap(correlation, cmap='viridis');"
   ]
  },
  {
   "cell_type": "markdown",
   "metadata": {},
   "source": [
    "Now, I want to check age distribution:"
   ]
  },
  {
   "cell_type": "code",
   "execution_count": 31,
   "metadata": {},
   "outputs": [
    {
     "data": {
      "image/png": "[encoded data removed]",
      "text/plain": [
       "<Figure size 1440x360 with 1 Axes>"
      ]
     },
     "metadata": {
      "needs_background": "light"
     },
     "output_type": "display_data"
    }
   ],
   "source": [
    "age_series = bank.age.value_counts()\n",
    "plt.figure(figsize=(20,5))\n",
    "sns.barplot(age_series.index.astype('int'), age_series.values)\n",
    "plt.ylabel('Number of customers', fontsize=12)\n",
    "plt.xlabel('Age', fontsize=10)\n",
    "plt.show();"
   ]
  },
  {
   "cell_type": "code",
   "execution_count": null,
   "metadata": {},
   "outputs": [],
   "source": []
  },
  {
   "cell_type": "code",
   "execution_count": null,
   "metadata": {},
   "outputs": [],
   "source": []
  },
  {
   "cell_type": "code",
   "execution_count": null,
   "metadata": {},
   "outputs": [],
   "source": []
  },
  {
   "cell_type": "code",
   "execution_count": null,
   "metadata": {},
   "outputs": [],
   "source": []
  },
  {
   "cell_type": "code",
   "execution_count": null,
   "metadata": {},
   "outputs": [],
   "source": []
  },
  {
   "cell_type": "code",
   "execution_count": null,
   "metadata": {},
   "outputs": [],
   "source": []
  },
  {
   "cell_type": "code",
   "execution_count": null,
   "metadata": {},
   "outputs": [],
   "source": []
  },
  {
   "cell_type": "code",
   "execution_count": null,
   "metadata": {},
   "outputs": [],
   "source": [
    "pd.DataFrame(distance_matrix(bank.values, bank.values), index=bank.index, columns=bank.index)"
   ]
  }
 ],
 "metadata": {
  "kernelspec": {
   "display_name": "Python 3",
   "language": "python",
   "name": "python3"
  },
  "language_info": {
   "codemirror_mode": {
    "name": "ipython",
    "version": 3
   },
   "file_extension": ".py",
   "mimetype": "text/x-python",
   "name": "python",
   "nbconvert_exporter": "python",
   "pygments_lexer": "ipython3",
   "version": "3.7.3"
  }
 },
 "nbformat": 4,
 "nbformat_minor": 2
}
