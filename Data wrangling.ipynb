{
 "cells": [
  {
   "cell_type": "code",
   "execution_count": 2,
   "metadata": {},
   "outputs": [],
   "source": [
    "import pandas as pd\n",
    "import numpy as np"
   ]
  },
  {
   "cell_type": "markdown",
   "metadata": {},
   "source": [
    "###### I've tried to download the file and I've found it is too heavy to download it directly, so lo lets download first 10 rows"
   ]
  },
  {
   "cell_type": "code",
   "execution_count": 3,
   "metadata": {},
   "outputs": [
    {
     "data": {
      "text/html": [
       "<div>\n",
       "<style scoped>\n",
       "    .dataframe tbody tr th:only-of-type {\n",
       "        vertical-align: middle;\n",
       "    }\n",
       "\n",
       "    .dataframe tbody tr th {\n",
       "        vertical-align: top;\n",
       "    }\n",
       "\n",
       "    .dataframe thead th {\n",
       "        text-align: right;\n",
       "    }\n",
       "</style>\n",
       "<table border=\"1\" class=\"dataframe\">\n",
       "  <thead>\n",
       "    <tr style=\"text-align: right;\">\n",
       "      <th></th>\n",
       "      <th>fecha_dato</th>\n",
       "      <th>ncodpers</th>\n",
       "      <th>ind_empleado</th>\n",
       "      <th>pais_residencia</th>\n",
       "      <th>sexo</th>\n",
       "      <th>age</th>\n",
       "      <th>fecha_alta</th>\n",
       "      <th>ind_nuevo</th>\n",
       "      <th>antiguedad</th>\n",
       "      <th>indrel</th>\n",
       "      <th>...</th>\n",
       "      <th>ind_hip_fin_ult1</th>\n",
       "      <th>ind_plan_fin_ult1</th>\n",
       "      <th>ind_pres_fin_ult1</th>\n",
       "      <th>ind_reca_fin_ult1</th>\n",
       "      <th>ind_tjcr_fin_ult1</th>\n",
       "      <th>ind_valo_fin_ult1</th>\n",
       "      <th>ind_viv_fin_ult1</th>\n",
       "      <th>ind_nomina_ult1</th>\n",
       "      <th>ind_nom_pens_ult1</th>\n",
       "      <th>ind_recibo_ult1</th>\n",
       "    </tr>\n",
       "  </thead>\n",
       "  <tbody>\n",
       "    <tr>\n",
       "      <th>0</th>\n",
       "      <td>2015-01-28</td>\n",
       "      <td>1375586</td>\n",
       "      <td>N</td>\n",
       "      <td>ES</td>\n",
       "      <td>H</td>\n",
       "      <td>35</td>\n",
       "      <td>2015-01-12</td>\n",
       "      <td>0</td>\n",
       "      <td>6</td>\n",
       "      <td>1</td>\n",
       "      <td>...</td>\n",
       "      <td>0</td>\n",
       "      <td>0</td>\n",
       "      <td>0</td>\n",
       "      <td>0</td>\n",
       "      <td>0</td>\n",
       "      <td>0</td>\n",
       "      <td>0</td>\n",
       "      <td>0</td>\n",
       "      <td>0</td>\n",
       "      <td>0</td>\n",
       "    </tr>\n",
       "    <tr>\n",
       "      <th>1</th>\n",
       "      <td>2015-01-28</td>\n",
       "      <td>1050611</td>\n",
       "      <td>N</td>\n",
       "      <td>ES</td>\n",
       "      <td>V</td>\n",
       "      <td>23</td>\n",
       "      <td>2012-08-10</td>\n",
       "      <td>0</td>\n",
       "      <td>35</td>\n",
       "      <td>1</td>\n",
       "      <td>...</td>\n",
       "      <td>0</td>\n",
       "      <td>0</td>\n",
       "      <td>0</td>\n",
       "      <td>0</td>\n",
       "      <td>0</td>\n",
       "      <td>0</td>\n",
       "      <td>0</td>\n",
       "      <td>0</td>\n",
       "      <td>0</td>\n",
       "      <td>0</td>\n",
       "    </tr>\n",
       "    <tr>\n",
       "      <th>2</th>\n",
       "      <td>2015-01-28</td>\n",
       "      <td>1050612</td>\n",
       "      <td>N</td>\n",
       "      <td>ES</td>\n",
       "      <td>V</td>\n",
       "      <td>23</td>\n",
       "      <td>2012-08-10</td>\n",
       "      <td>0</td>\n",
       "      <td>35</td>\n",
       "      <td>1</td>\n",
       "      <td>...</td>\n",
       "      <td>0</td>\n",
       "      <td>0</td>\n",
       "      <td>0</td>\n",
       "      <td>0</td>\n",
       "      <td>0</td>\n",
       "      <td>0</td>\n",
       "      <td>0</td>\n",
       "      <td>0</td>\n",
       "      <td>0</td>\n",
       "      <td>0</td>\n",
       "    </tr>\n",
       "    <tr>\n",
       "      <th>3</th>\n",
       "      <td>2015-01-28</td>\n",
       "      <td>1050613</td>\n",
       "      <td>N</td>\n",
       "      <td>ES</td>\n",
       "      <td>H</td>\n",
       "      <td>22</td>\n",
       "      <td>2012-08-10</td>\n",
       "      <td>0</td>\n",
       "      <td>35</td>\n",
       "      <td>1</td>\n",
       "      <td>...</td>\n",
       "      <td>0</td>\n",
       "      <td>0</td>\n",
       "      <td>0</td>\n",
       "      <td>0</td>\n",
       "      <td>0</td>\n",
       "      <td>0</td>\n",
       "      <td>0</td>\n",
       "      <td>0</td>\n",
       "      <td>0</td>\n",
       "      <td>0</td>\n",
       "    </tr>\n",
       "    <tr>\n",
       "      <th>4</th>\n",
       "      <td>2015-01-28</td>\n",
       "      <td>1050614</td>\n",
       "      <td>N</td>\n",
       "      <td>ES</td>\n",
       "      <td>V</td>\n",
       "      <td>23</td>\n",
       "      <td>2012-08-10</td>\n",
       "      <td>0</td>\n",
       "      <td>35</td>\n",
       "      <td>1</td>\n",
       "      <td>...</td>\n",
       "      <td>0</td>\n",
       "      <td>0</td>\n",
       "      <td>0</td>\n",
       "      <td>0</td>\n",
       "      <td>0</td>\n",
       "      <td>0</td>\n",
       "      <td>0</td>\n",
       "      <td>0</td>\n",
       "      <td>0</td>\n",
       "      <td>0</td>\n",
       "    </tr>\n",
       "  </tbody>\n",
       "</table>\n",
       "<p>5 rows × 48 columns</p>\n",
       "</div>"
      ],
      "text/plain": [
       "   fecha_dato  ncodpers ind_empleado pais_residencia sexo  age  fecha_alta  \\\n",
       "0  2015-01-28   1375586            N              ES    H   35  2015-01-12   \n",
       "1  2015-01-28   1050611            N              ES    V   23  2012-08-10   \n",
       "2  2015-01-28   1050612            N              ES    V   23  2012-08-10   \n",
       "3  2015-01-28   1050613            N              ES    H   22  2012-08-10   \n",
       "4  2015-01-28   1050614            N              ES    V   23  2012-08-10   \n",
       "\n",
       "   ind_nuevo  antiguedad  indrel  ...  ind_hip_fin_ult1  ind_plan_fin_ult1  \\\n",
       "0          0           6       1  ...                 0                  0   \n",
       "1          0          35       1  ...                 0                  0   \n",
       "2          0          35       1  ...                 0                  0   \n",
       "3          0          35       1  ...                 0                  0   \n",
       "4          0          35       1  ...                 0                  0   \n",
       "\n",
       "  ind_pres_fin_ult1 ind_reca_fin_ult1 ind_tjcr_fin_ult1  ind_valo_fin_ult1  \\\n",
       "0                 0                 0                 0                  0   \n",
       "1                 0                 0                 0                  0   \n",
       "2                 0                 0                 0                  0   \n",
       "3                 0                 0                 0                  0   \n",
       "4                 0                 0                 0                  0   \n",
       "\n",
       "  ind_viv_fin_ult1 ind_nomina_ult1  ind_nom_pens_ult1  ind_recibo_ult1  \n",
       "0                0               0                  0                0  \n",
       "1                0               0                  0                0  \n",
       "2                0               0                  0                0  \n",
       "3                0               0                  0                0  \n",
       "4                0               0                  0                0  \n",
       "\n",
       "[5 rows x 48 columns]"
      ]
     },
     "execution_count": 3,
     "metadata": {},
     "output_type": "execute_result"
    }
   ],
   "source": [
    "bank = pd.read_csv('./data/train_ver2.csv', nrows=10)\n",
    "bank.head()"
   ]
  },
  {
   "cell_type": "code",
   "execution_count": 4,
   "metadata": {
    "scrolled": true
   },
   "outputs": [
    {
     "data": {
      "text/plain": [
       "Index(['fecha_dato', 'ncodpers', 'ind_empleado', 'pais_residencia', 'sexo',\n",
       "       'age', 'fecha_alta', 'ind_nuevo', 'antiguedad', 'indrel',\n",
       "       'ult_fec_cli_1t', 'indrel_1mes', 'tiprel_1mes', 'indresi', 'indext',\n",
       "       'conyuemp', 'canal_entrada', 'indfall', 'tipodom', 'cod_prov',\n",
       "       'nomprov', 'ind_actividad_cliente', 'renta', 'segmento',\n",
       "       'ind_ahor_fin_ult1', 'ind_aval_fin_ult1', 'ind_cco_fin_ult1',\n",
       "       'ind_cder_fin_ult1', 'ind_cno_fin_ult1', 'ind_ctju_fin_ult1',\n",
       "       'ind_ctma_fin_ult1', 'ind_ctop_fin_ult1', 'ind_ctpp_fin_ult1',\n",
       "       'ind_deco_fin_ult1', 'ind_deme_fin_ult1', 'ind_dela_fin_ult1',\n",
       "       'ind_ecue_fin_ult1', 'ind_fond_fin_ult1', 'ind_hip_fin_ult1',\n",
       "       'ind_plan_fin_ult1', 'ind_pres_fin_ult1', 'ind_reca_fin_ult1',\n",
       "       'ind_tjcr_fin_ult1', 'ind_valo_fin_ult1', 'ind_viv_fin_ult1',\n",
       "       'ind_nomina_ult1', 'ind_nom_pens_ult1', 'ind_recibo_ult1'],\n",
       "      dtype='object')"
      ]
     },
     "execution_count": 4,
     "metadata": {},
     "output_type": "execute_result"
    }
   ],
   "source": [
    "bank.columns"
   ]
  },
  {
   "cell_type": "code",
   "execution_count": 5,
   "metadata": {},
   "outputs": [],
   "source": [
    "# I've used this to get the dataframe by column and, with the three cells below, determine the optimal cell type.\n",
    "# The purpose of doing that is open all dataframe for feature enginering.\n",
    "\n",
    "usecols = ['ind_pres_fin_ult1', 'ind_reca_fin_ult1',\n",
    "       'ind_tjcr_fin_ult1', 'ind_valo_fin_ult1', 'ind_viv_fin_ult1',\n",
    "       'ind_nomina_ult1', 'ind_nom_pens_ult1', 'ind_recibo_ult1']\n",
    "\n",
    "bank_by_cols = pd.read_csv('./data/train_ver2.csv', usecols=usecols\n",
    "                         , na_values={'na':0, 'NA':0 , 'NaN':0.0, 'nan':0.0}\n",
    "                        )\n"
   ]
  },
  {
   "cell_type": "code",
   "execution_count": 6,
   "metadata": {},
   "outputs": [
    {
     "name": "stdout",
     "output_type": "stream",
     "text": [
      "<class 'pandas.core.frame.DataFrame'>\n",
      "RangeIndex: 13647309 entries, 0 to 13647308\n",
      "Data columns (total 8 columns):\n",
      "ind_pres_fin_ult1    int8\n",
      "ind_reca_fin_ult1    int8\n",
      "ind_tjcr_fin_ult1    int8\n",
      "ind_valo_fin_ult1    int8\n",
      "ind_viv_fin_ult1     int8\n",
      "ind_nomina_ult1      float64\n",
      "ind_nom_pens_ult1    float64\n",
      "ind_recibo_ult1      int8\n",
      "dtypes: float64(2), int8(6)\n",
      "memory usage: 286.3 MB\n"
     ]
    }
   ],
   "source": [
    "# This helps to reduce the bytes of integers to minimum (int8) if possible\n",
    "\n",
    "for int_col in bank_by_cols.select_dtypes('integer').columns:\n",
    "    bank_by_cols[int_col] = pd.to_numeric(bank_by_cols[int_col], downcast='integer')\n",
    "    \n",
    "bank_by_cols.info(memory_usage='deep')"
   ]
  },
  {
   "cell_type": "code",
   "execution_count": 7,
   "metadata": {},
   "outputs": [
    {
     "name": "stdout",
     "output_type": "stream",
     "text": [
      "<class 'pandas.core.frame.DataFrame'>\n",
      "RangeIndex: 13647309 entries, 0 to 13647308\n",
      "Data columns (total 8 columns):\n",
      "ind_pres_fin_ult1    int8\n",
      "ind_reca_fin_ult1    int8\n",
      "ind_tjcr_fin_ult1    int8\n",
      "ind_valo_fin_ult1    int8\n",
      "ind_viv_fin_ult1     int8\n",
      "ind_nomina_ult1      float32\n",
      "ind_nom_pens_ult1    float32\n",
      "ind_recibo_ult1      int8\n",
      "dtypes: float32(2), int8(6)\n",
      "memory usage: 182.2 MB\n"
     ]
    }
   ],
   "source": [
    "# same for float\n",
    "\n",
    "for int_col in bank_by_cols.select_dtypes('float').columns:\n",
    "    bank_by_cols[int_col] = pd.to_numeric(bank_by_cols[int_col], downcast='float')\n",
    "    \n",
    "bank_by_cols.info(memory_usage='deep')"
   ]
  },
  {
   "cell_type": "code",
   "execution_count": 8,
   "metadata": {},
   "outputs": [
    {
     "name": "stdout",
     "output_type": "stream",
     "text": [
      "<class 'pandas.core.frame.DataFrame'>\n",
      "RangeIndex: 13647309 entries, 0 to 13647308\n",
      "Data columns (total 8 columns):\n",
      "ind_pres_fin_ult1    int8\n",
      "ind_reca_fin_ult1    int8\n",
      "ind_tjcr_fin_ult1    int8\n",
      "ind_valo_fin_ult1    int8\n",
      "ind_viv_fin_ult1     int8\n",
      "ind_nomina_ult1      float32\n",
      "ind_nom_pens_ult1    float32\n",
      "ind_recibo_ult1      int8\n",
      "dtypes: float32(2), int8(6)\n",
      "memory usage: 182.2 MB\n"
     ]
    }
   ],
   "source": [
    "# Convert object to category - Will be used later\n",
    "\n",
    "for cat_feature in bank_by_cols.select_dtypes('object').columns:\n",
    "    bank_by_cols[cat_feature] = bank_by_cols[cat_feature].astype('category')\n",
    "\n",
    "bank_by_cols.info(memory_usage='deep')"
   ]
  },
  {
   "cell_type": "code",
   "execution_count": 9,
   "metadata": {},
   "outputs": [],
   "source": [
    "# Dictionary with all columns and its types, this is made in order to download the full file\n",
    "\n",
    "cols_types = {'fecha_dato':'object',\n",
    "'ncodpers':'int32',\n",
    "'ind_empleado':'object',\n",
    "'pais_residencia':'object',\n",
    "'sexo':'object',\n",
    "'age':'object',          # este tiene un valor NA, en la doc de pandas se puede decir NA=0\n",
    "'fecha_alta':'object',\n",
    "'ind_nuevo':'float32',\n",
    "'antiguedad':'object',   # este tiene un valor NA, en la doc de pandas se puede decir NA=0\n",
    "'indrel':'float32',\n",
    "              \n",
    "'ult_fec_cli_1t':'object',\n",
    "'indrel_1mes':'object',\n",
    "'tiprel_1mes':'object',\n",
    "'indresi':'object',\n",
    "'indext':'object',\n",
    "'conyuemp':'object',\n",
    "'canal_entrada':'object',\n",
    "'indfall':'object',\n",
    "'tipodom':'float32',\n",
    "'cod_prov':'float32',    # debería ser int32\n",
    "              \n",
    "'nomprov':'object',\n",
    "'ind_actividad_cliente':'float32',\n",
    "'renta':'float32',\n",
    "'segmento':'object',\n",
    "'ind_ahor_fin_ult1':'int8',\n",
    "'ind_aval_fin_ult1':'int8',\n",
    "'ind_cco_fin_ult1':'int8',\n",
    "'ind_cder_fin_ult1':'int8',\n",
    "'ind_cno_fin_ult1':'int8',\n",
    "'ind_ctju_fin_ult1':'int8',\n",
    "              \n",
    "'ind_ctma_fin_ult1':'int8',\n",
    "'ind_ctop_fin_ult1':'int8',\n",
    "'ind_ctpp_fin_ult1':'int8',\n",
    "'ind_deco_fin_ult1':'int8',\n",
    "'ind_deme_fin_ult1':'int8',\n",
    "'ind_dela_fin_ult1':'int8',\n",
    "'ind_ecue_fin_ult1':'int8',\n",
    "'ind_fond_fin_ult1':'int8',\n",
    "'ind_hip_fin_ult1':'int8',\n",
    "'ind_plan_fin_ult1':'int8',\n",
    "              \n",
    "'ind_pres_fin_ult1':'int8',\n",
    "'ind_reca_fin_ult1':'int8',\n",
    "'ind_tjcr_fin_ult1':'int8',\n",
    "'ind_valo_fin_ult1':'int8',\n",
    "'ind_viv_fin_ult1':'int8',\n",
    "'ind_nomina_ult1':'float32',\n",
    "'ind_nom_pens_ult1':'float32',\n",
    "'ind_recibo_ult1':'int8'\n",
    "             }"
   ]
  },
  {
   "cell_type": "code",
   "execution_count": 10,
   "metadata": {},
   "outputs": [
    {
     "data": {
      "text/html": [
       "<div>\n",
       "<style scoped>\n",
       "    .dataframe tbody tr th:only-of-type {\n",
       "        vertical-align: middle;\n",
       "    }\n",
       "\n",
       "    .dataframe tbody tr th {\n",
       "        vertical-align: top;\n",
       "    }\n",
       "\n",
       "    .dataframe thead th {\n",
       "        text-align: right;\n",
       "    }\n",
       "</style>\n",
       "<table border=\"1\" class=\"dataframe\">\n",
       "  <thead>\n",
       "    <tr style=\"text-align: right;\">\n",
       "      <th></th>\n",
       "      <th>fecha_dato</th>\n",
       "      <th>ncodpers</th>\n",
       "      <th>ind_empleado</th>\n",
       "      <th>pais_residencia</th>\n",
       "      <th>sexo</th>\n",
       "      <th>age</th>\n",
       "      <th>fecha_alta</th>\n",
       "      <th>ind_nuevo</th>\n",
       "      <th>antiguedad</th>\n",
       "      <th>indrel</th>\n",
       "      <th>...</th>\n",
       "      <th>ind_hip_fin_ult1</th>\n",
       "      <th>ind_plan_fin_ult1</th>\n",
       "      <th>ind_pres_fin_ult1</th>\n",
       "      <th>ind_reca_fin_ult1</th>\n",
       "      <th>ind_tjcr_fin_ult1</th>\n",
       "      <th>ind_valo_fin_ult1</th>\n",
       "      <th>ind_viv_fin_ult1</th>\n",
       "      <th>ind_nomina_ult1</th>\n",
       "      <th>ind_nom_pens_ult1</th>\n",
       "      <th>ind_recibo_ult1</th>\n",
       "    </tr>\n",
       "  </thead>\n",
       "  <tbody>\n",
       "    <tr>\n",
       "      <th>0</th>\n",
       "      <td>2015-01-28</td>\n",
       "      <td>1375586</td>\n",
       "      <td>N</td>\n",
       "      <td>ES</td>\n",
       "      <td>H</td>\n",
       "      <td>35</td>\n",
       "      <td>2015-01-12</td>\n",
       "      <td>0.0</td>\n",
       "      <td>6</td>\n",
       "      <td>1.0</td>\n",
       "      <td>...</td>\n",
       "      <td>0</td>\n",
       "      <td>0</td>\n",
       "      <td>0</td>\n",
       "      <td>0</td>\n",
       "      <td>0</td>\n",
       "      <td>0</td>\n",
       "      <td>0</td>\n",
       "      <td>0.0</td>\n",
       "      <td>0.0</td>\n",
       "      <td>0</td>\n",
       "    </tr>\n",
       "    <tr>\n",
       "      <th>1</th>\n",
       "      <td>2015-01-28</td>\n",
       "      <td>1050611</td>\n",
       "      <td>N</td>\n",
       "      <td>ES</td>\n",
       "      <td>V</td>\n",
       "      <td>23</td>\n",
       "      <td>2012-08-10</td>\n",
       "      <td>0.0</td>\n",
       "      <td>35</td>\n",
       "      <td>1.0</td>\n",
       "      <td>...</td>\n",
       "      <td>0</td>\n",
       "      <td>0</td>\n",
       "      <td>0</td>\n",
       "      <td>0</td>\n",
       "      <td>0</td>\n",
       "      <td>0</td>\n",
       "      <td>0</td>\n",
       "      <td>0.0</td>\n",
       "      <td>0.0</td>\n",
       "      <td>0</td>\n",
       "    </tr>\n",
       "    <tr>\n",
       "      <th>2</th>\n",
       "      <td>2015-01-28</td>\n",
       "      <td>1050612</td>\n",
       "      <td>N</td>\n",
       "      <td>ES</td>\n",
       "      <td>V</td>\n",
       "      <td>23</td>\n",
       "      <td>2012-08-10</td>\n",
       "      <td>0.0</td>\n",
       "      <td>35</td>\n",
       "      <td>1.0</td>\n",
       "      <td>...</td>\n",
       "      <td>0</td>\n",
       "      <td>0</td>\n",
       "      <td>0</td>\n",
       "      <td>0</td>\n",
       "      <td>0</td>\n",
       "      <td>0</td>\n",
       "      <td>0</td>\n",
       "      <td>0.0</td>\n",
       "      <td>0.0</td>\n",
       "      <td>0</td>\n",
       "    </tr>\n",
       "    <tr>\n",
       "      <th>3</th>\n",
       "      <td>2015-01-28</td>\n",
       "      <td>1050613</td>\n",
       "      <td>N</td>\n",
       "      <td>ES</td>\n",
       "      <td>H</td>\n",
       "      <td>22</td>\n",
       "      <td>2012-08-10</td>\n",
       "      <td>0.0</td>\n",
       "      <td>35</td>\n",
       "      <td>1.0</td>\n",
       "      <td>...</td>\n",
       "      <td>0</td>\n",
       "      <td>0</td>\n",
       "      <td>0</td>\n",
       "      <td>0</td>\n",
       "      <td>0</td>\n",
       "      <td>0</td>\n",
       "      <td>0</td>\n",
       "      <td>0.0</td>\n",
       "      <td>0.0</td>\n",
       "      <td>0</td>\n",
       "    </tr>\n",
       "    <tr>\n",
       "      <th>4</th>\n",
       "      <td>2015-01-28</td>\n",
       "      <td>1050614</td>\n",
       "      <td>N</td>\n",
       "      <td>ES</td>\n",
       "      <td>V</td>\n",
       "      <td>23</td>\n",
       "      <td>2012-08-10</td>\n",
       "      <td>0.0</td>\n",
       "      <td>35</td>\n",
       "      <td>1.0</td>\n",
       "      <td>...</td>\n",
       "      <td>0</td>\n",
       "      <td>0</td>\n",
       "      <td>0</td>\n",
       "      <td>0</td>\n",
       "      <td>0</td>\n",
       "      <td>0</td>\n",
       "      <td>0</td>\n",
       "      <td>0.0</td>\n",
       "      <td>0.0</td>\n",
       "      <td>0</td>\n",
       "    </tr>\n",
       "  </tbody>\n",
       "</table>\n",
       "<p>5 rows × 48 columns</p>\n",
       "</div>"
      ],
      "text/plain": [
       "   fecha_dato  ncodpers ind_empleado pais_residencia sexo  age  fecha_alta  \\\n",
       "0  2015-01-28   1375586            N              ES    H   35  2015-01-12   \n",
       "1  2015-01-28   1050611            N              ES    V   23  2012-08-10   \n",
       "2  2015-01-28   1050612            N              ES    V   23  2012-08-10   \n",
       "3  2015-01-28   1050613            N              ES    H   22  2012-08-10   \n",
       "4  2015-01-28   1050614            N              ES    V   23  2012-08-10   \n",
       "\n",
       "   ind_nuevo antiguedad  indrel  ... ind_hip_fin_ult1 ind_plan_fin_ult1  \\\n",
       "0        0.0          6     1.0  ...                0                 0   \n",
       "1        0.0         35     1.0  ...                0                 0   \n",
       "2        0.0         35     1.0  ...                0                 0   \n",
       "3        0.0         35     1.0  ...                0                 0   \n",
       "4        0.0         35     1.0  ...                0                 0   \n",
       "\n",
       "  ind_pres_fin_ult1 ind_reca_fin_ult1 ind_tjcr_fin_ult1 ind_valo_fin_ult1  \\\n",
       "0                 0                 0                 0                 0   \n",
       "1                 0                 0                 0                 0   \n",
       "2                 0                 0                 0                 0   \n",
       "3                 0                 0                 0                 0   \n",
       "4                 0                 0                 0                 0   \n",
       "\n",
       "  ind_viv_fin_ult1 ind_nomina_ult1  ind_nom_pens_ult1  ind_recibo_ult1  \n",
       "0                0             0.0                0.0                0  \n",
       "1                0             0.0                0.0                0  \n",
       "2                0             0.0                0.0                0  \n",
       "3                0             0.0                0.0                0  \n",
       "4                0             0.0                0.0                0  \n",
       "\n",
       "[5 rows x 48 columns]"
      ]
     },
     "execution_count": 10,
     "metadata": {},
     "output_type": "execute_result"
    }
   ],
   "source": [
    "bank_total = pd.read_csv('./data/train_ver2.csv', dtype=cols_types\n",
    "                         , na_values={'na':0, 'NA':0 , 'NaN':0.0, 'nan':0.0}\n",
    "                        )\n",
    "bank_total.head()"
   ]
  },
  {
   "cell_type": "markdown",
   "metadata": {},
   "source": [
    "<font color=blue>\n",
    "\n",
    "### Finally I got open the file!!\n",
    "</font>\n",
    "\n",
    "Lets check the size of the dataframe\n"
   ]
  },
  {
   "cell_type": "code",
   "execution_count": 11,
   "metadata": {},
   "outputs": [
    {
     "data": {
      "text/plain": [
       "(13647309, 48)"
      ]
     },
     "execution_count": 11,
     "metadata": {},
     "output_type": "execute_result"
    }
   ],
   "source": [
    "bank_total.shape"
   ]
  },
  {
   "cell_type": "markdown",
   "metadata": {},
   "source": [
    "Now I want to know which columns are categories.\n",
    "\n",
    "For this purpose I've create a function that prints the number of unique values and the unique values. I prefer doing it on this way since I'm able to check all columns in one step. It consumes more computational resources but I think is worthly."
   ]
  },
  {
   "cell_type": "code",
   "execution_count": 12,
   "metadata": {},
   "outputs": [
    {
     "name": "stdout",
     "output_type": "stream",
     "text": [
      "fecha_dato - num unique values: 17 \n",
      " ['2015-01-28' '2015-02-28' '2015-03-28' '2015-04-28' '2015-05-28'\n",
      " '2015-06-28' '2015-07-28' '2015-08-28' '2015-09-28' '2015-10-28'\n",
      " '2015-11-28' '2015-12-28' '2016-01-28' '2016-02-28' '2016-03-28'\n",
      " '2016-04-28' '2016-05-28'] \n",
      "\n",
      "\n",
      "ncodpers - num unique values: 956645 \n",
      " [1375586 1050611 1050612 ... 1173729 1164094 1550586] \n",
      "\n",
      "\n",
      "ind_empleado - num unique values: 5 \n",
      " ['N' nan 'A' 'B' 'F' 'S'] \n",
      "\n",
      "\n",
      "pais_residencia - num unique values: 118 \n",
      " ['ES' nan 'CA' 'CH' 'CL' 'IE' 'AT' 'NL' 'FR' 'GB' 'DE' 'DO' 'BE' 'AR' 'VE'\n",
      " 'US' 'MX' 'BR' 'IT' 'EC' 'PE' 'CO' 'HN' 'FI' 'SE' 'AL' 'PT' 'MZ' 'CN'\n",
      " 'TW' 'PL' 'IN' 'CR' 'NI' 'HK' 'AD' 'CZ' 'AE' 'MA' 'GR' 'PR' 'RO' 'IL'\n",
      " 'RU' 'GT' 'GA' 'NO' 'SN' 'MR' 'UA' 'BG' 'PY' 'EE' 'SV' 'ET' 'CM' 'SA'\n",
      " 'CI' 'QA' 'LU' 'PA' 'BA' 'BO' 'AU' 'BY' 'KE' 'SG' 'HR' 'MD' 'SK' 'TR'\n",
      " 'AO' 'CU' 'GQ' 'EG' 'ZA' 'DK' 'UY' 'GE' 'TH' 'DZ' 'LB' 'JP' 'NG' 'PK'\n",
      " 'TN' 'TG' 'KR' 'GH' 'RS' 'VN' 'PH' 'KW' 'NZ' 'MM' 'KH' 'GI' 'SL' 'GN'\n",
      " 'GW' 'OM' 'CG' 'LV' 'LT' 'ML' 'MK' 'HU' 'IS' 'LY' 'CF' 'GM' 'KZ' 'CD'\n",
      " 'BZ' 'ZW' 'DJ' 'JM' 'BM' 'MT'] \n",
      "\n",
      "\n",
      "sexo - num unique values: 2 \n",
      " ['H' 'V' nan] \n",
      "\n",
      "\n",
      "age - num unique values: 121 \n",
      " [' 35' ' 23' ' 22' ' 24' ' 65' ' 28' ' 25' ' 26' ' 53' ' 27' ' 32' ' 37'\n",
      " ' 31' ' 39' ' 63' ' 33' ' 55' ' 42' ' 58' ' 38' ' 50' ' 30' ' 45' ' 44'\n",
      " ' 36' ' 29' ' 60' ' 57' ' 67' ' 47' ' NA' ' 34' ' 48' ' 46' ' 54' ' 84'\n",
      " ' 15' ' 12' '  8' '  6' ' 83' ' 40' ' 77' ' 69' ' 52' ' 59' ' 43' ' 10'\n",
      " '  9' ' 49' ' 41' ' 51' ' 78' ' 16' ' 11' ' 73' ' 62' ' 66' ' 17' ' 68'\n",
      " ' 82' ' 95' ' 96' ' 56' ' 61' ' 79' ' 72' ' 14' ' 19' ' 13' ' 86' ' 64'\n",
      " ' 20' ' 89' ' 71' '  7' ' 70' ' 74' ' 21' ' 18' ' 75' '  4' ' 80' ' 81'\n",
      " '  5' ' 76' ' 92' ' 93' ' 85' ' 91' ' 87' ' 90' ' 94' ' 99' ' 98' ' 88'\n",
      " ' 97' '100' '101' '106' '103' '  3' '  2' '102' '104' '111' '107' '109'\n",
      " '105' '112' '115' '110' '116' '108' '113' '126' '117' '163' '127' '114'\n",
      " '164'] \n",
      "\n",
      "\n",
      "fecha_alta - num unique values: 6756 \n",
      " ['2015-01-12' '2012-08-10' nan ... '2016-05-25' '2016-05-01' '2016-05-15'] \n",
      "\n",
      "\n",
      "ind_nuevo - num unique values: 2 \n",
      " [ 0. nan  1.] \n",
      "\n",
      "\n",
      "antiguedad - num unique values: 259 \n",
      " ['      6' '     35' '     34' '     NA' '     33' '     31' '     21'\n",
      " '     16' '     27' '      9' '     22' '     13' '     29' '      8'\n",
      " '     11' '     10' '     28' '     24' '      7' '     25' '     14'\n",
      " '     26' '     12' '     23' '      1' '     18' '      4' '      3'\n",
      " '     17' '     32' '     30' '     20' '     15' '     19' '    157'\n",
      " '     36' '      5' '     40' '     38' '     37' '     39' '      0'\n",
      " '      2' '     47' '     44' '     42' '     46' '     45' '     43'\n",
      " '     41' '     57' '     48' '     52' '     49' '     50' '     56'\n",
      " '     58' '     51' '     55' '     54' '     53' '     59' '     62'\n",
      " '     61' '     60' '     63' '    139' '    165' '    118' '    164'\n",
      " '    142' '     94' '    159' '    143' '    105' '    151' '    162'\n",
      " '    137' '    150' '    128' '    122' '    156' '    119' '    160'\n",
      " '     79' '     95' '    132' '    161' '     98' '    127' '     72'\n",
      " '    155' '    108' '    163' '    102' '    148' '    115' '    146'\n",
      " '    107' '     81' '    216' '    135' '     92' '    121' '    198'\n",
      " '    134' '     93' '    140' '    110' '    120' '    147' '    116'\n",
      " '     64' '     77' '     85' '     99' '     78' '    100' '    113'\n",
      " '    154' '    166' '    133' '    124' '    141' '     66' '    117'\n",
      " '     86' '    193' '     80' '    144' '     87' '    126' '    158'\n",
      " '    101' '    235' '     88' '    145' '    103' '    149' '    109'\n",
      " '    131' '     97' '     68' '     84' '    232' '    125' '    177'\n",
      " '    112' '     96' '     69' '    171' '    167' '    104' '     76'\n",
      " '     82' '    152' '     70' '    138' '    169' '     65' '    129'\n",
      " '    190' '    114' '    111' '    176' '    153' '     89' '    136'\n",
      " '     83' '    123' '    187' '    106' '    231' '    189' '    217'\n",
      " '    172' '    199' '    173' '    174' '    209' '    180' '    178'\n",
      " '     91' '    168' '    130' '    225' '     67' '     73' '    183'\n",
      " '     74' '    206' '     71' '    179' '    184' '    192' '     90'\n",
      " '    194' '    182' '    188' '    213' '    185' '    195' '    186'\n",
      " '    207' '    208' '     75' '    175' '    201' '    203' '    212'\n",
      " '    215' '    170' '    228' '    214' '    202' '    196' '    181'\n",
      " '    211' '    191' '    205' '    200' '    227' '    218' '    219'\n",
      " '    226' '    224' '    210' '    242' '    223' '    237' '    204'\n",
      " '    233' '    220' '    222' '    241' '    197' '    221' '    229'\n",
      " '    234' '    240' '    243' '    230' '    238' '    246' '    236'\n",
      " '    244' '    239' '    245' '-999999' '    247' '    248' '    249'\n",
      " '    250' '    251' '    252' '    253' '    254' '    255' '    256'] \n",
      "\n",
      "\n",
      "indrel - num unique values: 2 \n",
      " [ 1. nan 99.] \n",
      "\n",
      "\n",
      "ult_fec_cli_1t - num unique values: 223 \n",
      " [nan '2015-07-02' '2015-07-23' '2015-07-06' '2015-07-30' '2015-07-20'\n",
      " '2015-07-08' '2015-07-22' '2015-07-17' '2015-07-09' '2015-07-03'\n",
      " '2015-07-29' '2015-07-13' '2015-07-21' '2015-07-27' '2015-07-14'\n",
      " '2015-07-01' '2015-07-24' '2015-07-15' '2015-07-16' '2015-07-28'\n",
      " '2015-07-07' '2015-07-10' '2015-08-21' '2015-08-19' '2015-08-25'\n",
      " '2015-08-14' '2015-08-24' '2015-08-17' '2015-08-18' '2015-08-10'\n",
      " '2015-08-13' '2015-08-27' '2015-08-03' '2015-08-06' '2015-08-20'\n",
      " '2015-08-26' '2015-08-28' '2015-08-05' '2015-08-11' '2015-08-07'\n",
      " '2015-08-04' '2015-08-12' '2015-09-17' '2015-09-01' '2015-09-18'\n",
      " '2015-09-03' '2015-09-02' '2015-09-14' '2015-09-16' '2015-09-29'\n",
      " '2015-09-28' '2015-09-09' '2015-09-22' '2015-09-08' '2015-09-11'\n",
      " '2015-09-21' '2015-09-04' '2015-09-25' '2015-09-07' '2015-09-10'\n",
      " '2015-09-23' '2015-09-24' '2015-09-15' '2015-10-08' '2015-10-07'\n",
      " '2015-10-13' '2015-10-26' '2015-10-29' '2015-10-05' '2015-10-28'\n",
      " '2015-10-09' '2015-10-22' '2015-10-20' '2015-10-15' '2015-10-06'\n",
      " '2015-10-01' '2015-10-21' '2015-10-16' '2015-10-27' '2015-10-19'\n",
      " '2015-10-23' '2015-10-02' '2015-10-14' '2015-11-23' '2015-11-24'\n",
      " '2015-11-12' '2015-11-04' '2015-11-13' '2015-11-25' '2015-11-19'\n",
      " '2015-11-20' '2015-11-03' '2015-11-16' '2015-11-17' '2015-11-11'\n",
      " '2015-11-27' '2015-11-18' '2015-11-10' '2015-11-26' '2015-11-02'\n",
      " '2015-11-05' '2015-11-06' '2015-11-09' '2015-12-21' '2015-12-18'\n",
      " '2015-12-28' '2015-12-24' '2015-12-04' '2015-12-29' '2015-12-16'\n",
      " '2015-12-11' '2015-12-30' '2015-12-15' '2015-12-01' '2015-12-09'\n",
      " '2015-12-10' '2015-12-17' '2015-12-02' '2015-12-14' '2015-12-03'\n",
      " '2015-12-22' '2015-12-23' '2015-12-07' '2016-01-08' '2016-01-14'\n",
      " '2016-01-13' '2016-01-28' '2016-01-05' '2016-01-19' '2016-01-12'\n",
      " '2016-01-18' '2016-01-21' '2016-01-22' '2016-01-07' '2016-01-20'\n",
      " '2016-01-26' '2016-01-15' '2016-01-27' '2016-01-25' '2016-01-11'\n",
      " '2016-01-04' '2016-02-23' '2016-02-19' '2016-02-18' '2016-02-26'\n",
      " '2016-02-12' '2016-02-24' '2016-02-09' '2016-02-08' '2016-02-11'\n",
      " '2016-02-05' '2016-02-04' '2016-02-03' '2016-02-15' '2016-02-22'\n",
      " '2016-02-10' '2016-02-16' '2016-02-01' '2016-02-17' '2016-02-02'\n",
      " '2016-02-25' '2016-03-07' '2016-03-29' '2016-03-10' '2016-03-18'\n",
      " '2016-03-14' '2016-03-22' '2016-03-08' '2016-03-21' '2016-03-30'\n",
      " '2016-03-01' '2016-03-23' '2016-03-02' '2016-03-24' '2016-03-03'\n",
      " '2016-03-09' '2016-03-11' '2016-03-04' '2016-03-16' '2016-03-28'\n",
      " '2016-03-15' '2016-03-17' '2016-04-22' '2016-04-01' '2016-04-06'\n",
      " '2016-04-12' '2016-04-05' '2016-04-15' '2016-04-13' '2016-04-19'\n",
      " '2016-04-04' '2016-04-18' '2016-04-26' '2016-04-11' '2016-04-25'\n",
      " '2016-04-27' '2016-04-08' '2016-04-07' '2016-04-21' '2016-04-28'\n",
      " '2016-04-20' '2016-04-14' '2016-05-23' '2016-05-05' '2016-05-17'\n",
      " '2016-05-19' '2016-05-12' '2016-05-06' '2016-05-03' '2016-05-20'\n",
      " '2016-05-02' '2016-05-16' '2016-05-18' '2016-05-04' '2016-05-13'\n",
      " '2016-05-24' '2016-05-27' '2016-05-10' '2016-05-30' '2016-05-25'\n",
      " '2016-05-11' '2016-05-09' '2016-05-26'] \n",
      "\n",
      "\n",
      "indrel_1mes - num unique values: 9 \n",
      " ['1.0' '1' nan '3.0' '3' '2' '2.0' '4.0' 'P' '4'] \n",
      "\n",
      "\n",
      "tiprel_1mes - num unique values: 5 \n",
      " ['A' 'I' nan 'P' 'R' 'N'] \n",
      "\n",
      "\n",
      "indresi - num unique values: 2 \n",
      " ['S' nan 'N'] \n",
      "\n",
      "\n",
      "indext - num unique values: 2 \n",
      " ['N' 'S' nan] \n",
      "\n",
      "\n",
      "conyuemp - num unique values: 2 \n",
      " [nan 'N' 'S'] \n",
      "\n",
      "\n",
      "canal_entrada - num unique values: 162 \n",
      " ['KHL' 'KHE' 'KHD' 'KFA' 'KFC' 'KAT' nan 'KAZ' 'RED' 'KHC' 'KHK' 'KGN'\n",
      " 'KHM' 'KHO' 'KDH' 'KEH' 'KAD' 'KBG' 'KGC' 'KHF' 'KFK' 'KHN' 'KHA' 'KAF'\n",
      " 'KGX' 'KFD' 'KAG' 'KFG' 'KAB' 'KCC' 'KAE' 'KAH' 'KAR' 'KFJ' 'KFL' 'KAI'\n",
      " 'KFU' 'KAQ' 'KFS' 'KAA' 'KFP' 'KAJ' 'KFN' 'KGV' 'KGY' 'KFF' 'KAP' 'KDE'\n",
      " 'KFV' '013' 'K00' 'KAK' 'KCK' 'KCL' 'KAY' 'KBU' 'KDR' 'KAC' 'KDT' 'KCG'\n",
      " 'KDO' 'KDY' 'KBQ' 'KDA' 'KBO' 'KCI' 'KEC' 'KBZ' 'KES' 'KDX' 'KAS' '007'\n",
      " 'KEU' 'KCA' 'KAL' 'KDC' 'KAW' 'KCS' 'KCB' 'KDU' 'KDQ' 'KCN' 'KCM' '004'\n",
      " 'KCH' 'KCD' 'KCE' 'KEV' 'KBL' 'KEA' 'KBH' 'KDV' 'KFT' 'KEY' 'KAO' 'KEJ'\n",
      " 'KEO' 'KEI' 'KEW' 'KDZ' 'KBV' 'KBR' 'KBF' 'KDP' 'KCO' 'KCF' 'KCV' 'KAM'\n",
      " 'KEZ' 'KBD' 'KAN' 'KBY' 'KCT' 'KDD' 'KBW' 'KCU' 'KBX' 'KDB' 'KBS' 'KBE'\n",
      " 'KCX' 'KBP' 'KBN' 'KEB' 'KDS' 'KEL' 'KDG' 'KDF' 'KEF' 'KCP' 'KDM' 'KBB'\n",
      " 'KDW' 'KBJ' 'KFI' 'KBM' 'KEG' 'KEN' 'KEQ' 'KAV' 'KFH' 'KFM' 'KAU' 'KED'\n",
      " 'KFR' 'KEK' 'KFB' 'KGW' 'KFE' 'KGU' 'KDI' 'KDN' 'KEE' 'KCR' 'KCQ' 'KEM'\n",
      " 'KCJ' 'KHQ' 'KDL' '025' 'KHP' 'KHR' 'KHS'] \n",
      "\n",
      "\n",
      "indfall - num unique values: 2 \n",
      " ['N' nan 'S'] \n",
      "\n",
      "\n"
     ]
    },
    {
     "name": "stdout",
     "output_type": "stream",
     "text": [
      "tipodom - num unique values: 1 \n",
      " [ 1. nan] \n",
      "\n",
      "\n",
      "cod_prov - num unique values: 52 \n",
      " [29. 13. 50. 45. 24. 20. 10. 17. 49.  8. 37.  9. 22. 31.  5. 40. 27. 25.\n",
      " 28.  3. 42. 41. 39.  7. 47. 36. 46. 44. 15. 32. 23. 16. 48. 12. 26.  2.\n",
      "  6. 30. 11. nan  4. 19. 34. 35. 14. 21. 18. 33. 38. 52. 43.  1. 51.] \n",
      "\n",
      "\n",
      "nomprov - num unique values: 52 \n",
      " ['MALAGA' 'CIUDAD REAL' 'ZARAGOZA' 'TOLEDO' 'LEON' 'GIPUZKOA' 'CACERES'\n",
      " 'GIRONA' 'ZAMORA' 'BARCELONA' 'SALAMANCA' 'BURGOS' 'HUESCA' 'NAVARRA'\n",
      " 'AVILA' 'SEGOVIA' 'LUGO' 'LERIDA' 'MADRID' 'ALICANTE' 'SORIA' 'SEVILLA'\n",
      " 'CANTABRIA' 'BALEARS, ILLES' 'VALLADOLID' 'PONTEVEDRA' 'VALENCIA'\n",
      " 'TERUEL' 'CORUÑA, A' 'OURENSE' 'JAEN' 'CUENCA' 'BIZKAIA' 'CASTELLON'\n",
      " 'RIOJA, LA' 'ALBACETE' 'BADAJOZ' 'MURCIA' 'CADIZ' nan 'ALMERIA'\n",
      " 'GUADALAJARA' 'PALENCIA' 'PALMAS, LAS' 'CORDOBA' 'HUELVA' 'GRANADA'\n",
      " 'ASTURIAS' 'SANTA CRUZ DE TENERIFE' 'MELILLA' 'TARRAGONA' 'ALAVA' 'CEUTA'] \n",
      "\n",
      "\n",
      "ind_actividad_cliente - num unique values: 2 \n",
      " [ 1.  0. nan] \n",
      "\n",
      "\n",
      "renta - num unique values: 520988 \n",
      " [ 87218.1015625   35548.73828125 122179.109375   ...  63867.66015625\n",
      "  34341.1796875   89018.3671875 ] \n",
      "\n",
      "\n",
      "segmento - num unique values: 3 \n",
      " ['02 - PARTICULARES' '03 - UNIVERSITARIO' nan '01 - TOP'] \n",
      "\n",
      "\n",
      "ind_ahor_fin_ult1 - num unique values: 2 \n",
      " [0 1] \n",
      "\n",
      "\n",
      "ind_aval_fin_ult1 - num unique values: 2 \n",
      " [0 1] \n",
      "\n",
      "\n",
      "ind_cco_fin_ult1 - num unique values: 2 \n",
      " [1 0] \n",
      "\n",
      "\n",
      "ind_cder_fin_ult1 - num unique values: 2 \n",
      " [0 1] \n",
      "\n",
      "\n",
      "ind_cno_fin_ult1 - num unique values: 2 \n",
      " [0 1] \n",
      "\n",
      "\n",
      "ind_ctju_fin_ult1 - num unique values: 2 \n",
      " [0 1] \n",
      "\n",
      "\n",
      "ind_ctma_fin_ult1 - num unique values: 2 \n",
      " [0 1] \n",
      "\n",
      "\n",
      "ind_ctop_fin_ult1 - num unique values: 2 \n",
      " [0 1] \n",
      "\n",
      "\n",
      "ind_ctpp_fin_ult1 - num unique values: 2 \n",
      " [0 1] \n",
      "\n",
      "\n",
      "ind_deco_fin_ult1 - num unique values: 2 \n",
      " [0 1] \n",
      "\n",
      "\n",
      "ind_deme_fin_ult1 - num unique values: 2 \n",
      " [0 1] \n",
      "\n",
      "\n",
      "ind_dela_fin_ult1 - num unique values: 2 \n",
      " [0 1] \n",
      "\n",
      "\n",
      "ind_ecue_fin_ult1 - num unique values: 2 \n",
      " [0 1] \n",
      "\n",
      "\n",
      "ind_fond_fin_ult1 - num unique values: 2 \n",
      " [0 1] \n",
      "\n",
      "\n",
      "ind_hip_fin_ult1 - num unique values: 2 \n",
      " [0 1] \n",
      "\n",
      "\n",
      "ind_plan_fin_ult1 - num unique values: 2 \n",
      " [0 1] \n",
      "\n",
      "\n",
      "ind_pres_fin_ult1 - num unique values: 2 \n",
      " [0 1] \n",
      "\n",
      "\n",
      "ind_reca_fin_ult1 - num unique values: 2 \n",
      " [0 1] \n",
      "\n",
      "\n",
      "ind_tjcr_fin_ult1 - num unique values: 2 \n",
      " [0 1] \n",
      "\n",
      "\n",
      "ind_valo_fin_ult1 - num unique values: 2 \n",
      " [0 1] \n",
      "\n",
      "\n",
      "ind_viv_fin_ult1 - num unique values: 2 \n",
      " [0 1] \n",
      "\n",
      "\n",
      "ind_nomina_ult1 - num unique values: 2 \n",
      " [ 0.  1. nan] \n",
      "\n",
      "\n",
      "ind_nom_pens_ult1 - num unique values: 2 \n",
      " [ 0.  1. nan] \n",
      "\n",
      "\n",
      "ind_recibo_ult1 - num unique values: 2 \n",
      " [0 1] \n",
      "\n",
      "\n"
     ]
    }
   ],
   "source": [
    "all_columns = ['fecha_dato', 'ncodpers', 'ind_empleado', 'pais_residencia', 'sexo',\n",
    "       'age', 'fecha_alta', 'ind_nuevo', 'antiguedad', 'indrel',\n",
    "       'ult_fec_cli_1t', 'indrel_1mes', 'tiprel_1mes', 'indresi', 'indext',\n",
    "       'conyuemp', 'canal_entrada', 'indfall', 'tipodom', 'cod_prov',\n",
    "       'nomprov', 'ind_actividad_cliente', 'renta', 'segmento',\n",
    "       'ind_ahor_fin_ult1', 'ind_aval_fin_ult1', 'ind_cco_fin_ult1',\n",
    "       'ind_cder_fin_ult1', 'ind_cno_fin_ult1', 'ind_ctju_fin_ult1',\n",
    "       'ind_ctma_fin_ult1', 'ind_ctop_fin_ult1', 'ind_ctpp_fin_ult1',\n",
    "       'ind_deco_fin_ult1', 'ind_deme_fin_ult1', 'ind_dela_fin_ult1',\n",
    "       'ind_ecue_fin_ult1', 'ind_fond_fin_ult1', 'ind_hip_fin_ult1',\n",
    "       'ind_plan_fin_ult1', 'ind_pres_fin_ult1', 'ind_reca_fin_ult1',\n",
    "       'ind_tjcr_fin_ult1', 'ind_valo_fin_ult1', 'ind_viv_fin_ult1',\n",
    "       'ind_nomina_ult1', 'ind_nom_pens_ult1', 'ind_recibo_ult1']\n",
    "for col in all_columns:\n",
    "    print(col, '- num unique values:', bank_total[col].nunique(), '\\n', bank_total[col].unique(), '\\n\\n')"
   ]
  },
  {
   "cell_type": "markdown",
   "metadata": {},
   "source": [
    "I've found that field ncodpers (which is the personal code) have 956,645 values, so that means the number of customers represented on this data. We have 17th values in \"fecha_dato\" field; from January 2015 to May 2016. So as there is only 13,647,309 rows, that means some customers won't have all records.\n",
    "\n",
    "The columns that have low number of values are the ones listed below, in order to understand the data, lets reseach what means each field and if it needs to be cleaned(NBC):\n",
    "\n",
    "- ind_empleado ==> NBC - Categorical - A active, B ex employed, F filial, N not employee, P pasive.\n",
    "- sexo ==> NBC - Categorical - H women, V men.\n",
    "- ind_nuevo ==> NBC - Non categorical, it indicates with '1' if customer got registered in the last 6 months.\n",
    "- indrel ==> NBC - Categorical - 1 First/Primary, 99 Primary customer during the month but not at the end of the month\n",
    "- indrel_1mes ==> NBC - Categorical - 1 (First/Primary customer), 2 (co-owner ), P (Potential), 3 (former primary), 4(former co-owner)\n",
    "- tiprel_1mes ==> NBC - Categorical - Customer relation type at the beginning of the month, A (active), I (inactive), P (former customer), R (Potential)\n",
    "- indresi ==> NBC - Categorical - Residence index - Same residence country than the bank - S (Yes) or N (No)\n",
    "- indext ==> NBC - Categorical - Foreigner index - Birth country different than bank's residence country - S (Yes) or N (No)\n",
    "- conyuemp ==> NBC - Categorical - S (married with an employee) N (not married with an employee)\n",
    "- indfall ==> NBC - Categorical - S (customer has died) N (customer alive)\n",
    "- tipodom ==> To delete - Address type - 1 for primary residence\n",
    "- ind_actividad_cliente ==> NBC - 1, active customer; 0, inactive customer\n",
    "- segmento ==> NBC - Kind of customer\n",
    "- ind_ahor_fin_ult1 ==> Target column - Saving account\n",
    "- ind_aval_fin_ult1 ==> Target column - Guarantees\n",
    "- ind_cco_fin_ult1 ==> Target column - Current Accounts\n",
    "- ind_cder_fin_ult1 ==> Target column - Derivada Account\n",
    "- ind_cno_fin_ult1 ==> Target column - Payroll Account\n",
    "- ind_ctju_fin_ult1 ==> Target column - Junior Account\n",
    "- ind_ctma_fin_ult1 ==> Target column - Más particular Account\n",
    "- ind_ctop_fin_ult1 ==> Target column - particular Account\n",
    "- ind_ctpp_fin_ult1 ==> Target column - particular Plus Account\n",
    "- ind_deco_fin_ult1 ==> Target column - Short-term deposits\n",
    "- ind_deme_fin_ult1 ==> Target column - Medium-term deposits\n",
    "- ind_dela_fin_ult1 ==> Target column - Long-term deposits\n",
    "- ind_ecue_fin_ult1 ==> Target column - e-account\n",
    "- ind_fond_fin_ult1 ==> Target column - Funds\n",
    "- ind_hip_fin_ult1 ==> Target column - Mortgage\n",
    "- ind_plan_fin_ult1 ==> Target column - Pensions\n",
    "- ind_pres_fin_ult1 ==> Target column - Loans\n",
    "- ind_reca_fin_ult1 ==> Target column - Taxes\n",
    "- ind_tjcr_fin_ult1 ==> Target column - Credit Card\n",
    "- ind_valo_fin_ult1 ==> Target column - Securities\n",
    "- ind_viv_fin_ult1 ==> Target column - Home Account\n",
    "- ind_nomina_ult1 ==> Target column - Payroll\n",
    "- ind_nom_pens_ult1 ==> NBC - Target column - Pensions\n",
    "- ind_recibo_ult1 ==> Target column - Direct Debit"
   ]
  },
  {
   "cell_type": "code",
   "execution_count": 13,
   "metadata": {},
   "outputs": [
    {
     "data": {
      "text/plain": [
       "fecha_dato                object\n",
       "ncodpers                   int32\n",
       "ind_empleado              object\n",
       "pais_residencia           object\n",
       "sexo                      object\n",
       "age                       object\n",
       "fecha_alta                object\n",
       "ind_nuevo                float32\n",
       "antiguedad                object\n",
       "indrel                   float32\n",
       "ult_fec_cli_1t            object\n",
       "indrel_1mes               object\n",
       "tiprel_1mes               object\n",
       "indresi                   object\n",
       "indext                    object\n",
       "conyuemp                  object\n",
       "canal_entrada             object\n",
       "indfall                   object\n",
       "tipodom                  float32\n",
       "cod_prov                 float32\n",
       "nomprov                   object\n",
       "ind_actividad_cliente    float32\n",
       "renta                    float32\n",
       "segmento                  object\n",
       "ind_ahor_fin_ult1           int8\n",
       "ind_aval_fin_ult1           int8\n",
       "ind_cco_fin_ult1            int8\n",
       "ind_cder_fin_ult1           int8\n",
       "ind_cno_fin_ult1            int8\n",
       "ind_ctju_fin_ult1           int8\n",
       "ind_ctma_fin_ult1           int8\n",
       "ind_ctop_fin_ult1           int8\n",
       "ind_ctpp_fin_ult1           int8\n",
       "ind_deco_fin_ult1           int8\n",
       "ind_deme_fin_ult1           int8\n",
       "ind_dela_fin_ult1           int8\n",
       "ind_ecue_fin_ult1           int8\n",
       "ind_fond_fin_ult1           int8\n",
       "ind_hip_fin_ult1            int8\n",
       "ind_plan_fin_ult1           int8\n",
       "ind_pres_fin_ult1           int8\n",
       "ind_reca_fin_ult1           int8\n",
       "ind_tjcr_fin_ult1           int8\n",
       "ind_valo_fin_ult1           int8\n",
       "ind_viv_fin_ult1            int8\n",
       "ind_nomina_ult1          float32\n",
       "ind_nom_pens_ult1        float32\n",
       "ind_recibo_ult1             int8\n",
       "dtype: object"
      ]
     },
     "execution_count": 13,
     "metadata": {},
     "output_type": "execute_result"
    }
   ],
   "source": [
    "bank_total.dtypes"
   ]
  },
  {
   "cell_type": "markdown",
   "metadata": {},
   "source": [
    "# <font color=blue>TRANSFORMATIONS</font>"
   ]
  },
  {
   "cell_type": "markdown",
   "metadata": {},
   "source": [
    "#### <font color=blue>We can appreciate that:</font>\n",
    "<font color=blue>\n",
    "    \n",
    "* columns 'fecha_dato' and 'fecha_alta' are classified as object but are dates. I will keep them as objects\n",
    "\n",
    "\n",
    "* columns 'ind_nuevo' and 'fecha_alta' have exactly the same number of null values (27734). Looking deeper, I've found those nulls are on same rows. As that number of rows represent a 0.20% I'm going to delete it.\n",
    "\n",
    "\n",
    "* column 'conyuemp' have null values, I'm going to consider them as 'N'.\n",
    "\n",
    "\n",
    "* column 'age' have spaces on number fields and 27734 fields with NA. Looking further, it get my attention that the number of rows is the same number than 'ind_nuevo' and 'fecha_alta', however I've checked those nulls are not in the same rows. I'm going to convert all column to numbers and drop those NA values since it represent a 0.20% of all data and I'm going to follow \"less is more\" principle. Additionally, I've found there are some values for underage people and people that have more than 100 years (164 years?? that's not possible). For underage people, may be accounts created by their parents, for \"overaged\" people it have to be a mistake, so I will move those outliers to the mean of closest one in order to have it more balanced.\n",
    "\n",
    "\n",
    "* column 'antiguedad' have text cells with NAs with spaces, numbers with spaces and wrong number values(-999999). I'm going to replace all and convert all column to numbers. The wrong number of values and the NA's will be replaced for minimum seniority (0).\n",
    "\n",
    "\n",
    "* column 'indrel_1mes' have values represented as float, integers... I'm going to standarize it. Additionally, this column haves 149,781 rows with null values, those rows represent a 1,10% of all data. However, inspecting test file I've found there are some nulls as well. So I have to keep those null values.\n",
    "\n",
    "\n",
    "* column 'tiprel_1mes' have some nan values that represents less that 1,10% of all data. Same as before, I've found on test file some nan values, so I gonna keep them as well.\n",
    "\n",
    "\n",
    "* column 'segmento' have 161634 rows with null values that represent 1.19% of all data. Same as before, I've found on test file some nan values, so I gonna keep them as well.\n",
    "\n",
    "\n",
    "* column 'ult_fec_cli_1t' is classified as object, but it have some dates. However, it have lots of nulls so I won't do anything by now.\n",
    "\n",
    "* For null values in columns 'sexo', 'ult_fec_cli_1t', 'indrel_1mes', 'tiprel_1mes', 'segmento', 'canal_entrada', 'nomprov' - I will create a new category called 'unknown'.\n",
    "\n",
    "\n",
    "* I will drop 'cod_prov' column since it is exactly the same as 'nomprov'.\n",
    "\n",
    "\n",
    "* column 'renta' have 2,766,641 missing values that have to be corrected or dropped. Those data represent a 20.31% of all rows. However, taking in account that any row from test file have missing values on 'renta' field and I still have 10,852,934 rows for trainning and testing, I will drop those rows.\n",
    "\n",
    "\n",
    "* column 'ind_nomina_ult1' and 'ind_nom_pens_ult1' have 177 null values. Having in consideration that any row from test file have missing values on those fields, I will drop those rows.\n",
    "\n",
    "\n",
    "</font>"
   ]
  },
  {
   "cell_type": "code",
   "execution_count": 14,
   "metadata": {},
   "outputs": [
    {
     "name": "stdout",
     "output_type": "stream",
     "text": [
      "27734\n",
      "True\n",
      "False\n"
     ]
    }
   ],
   "source": [
    "a = bank_total[bank_total['ind_nuevo'].isna()].index.tolist()\n",
    "b = bank_total[bank_total['fecha_alta'].isna()].index.tolist()\n",
    "c = bank_total[bank_total['age'].isna()].index.tolist()\n",
    "print(len(a))\n",
    "print(a == b)\n",
    "print(a == c)"
   ]
  },
  {
   "cell_type": "code",
   "execution_count": 15,
   "metadata": {},
   "outputs": [
    {
     "data": {
      "text/plain": [
       "0"
      ]
     },
     "execution_count": 15,
     "metadata": {},
     "output_type": "execute_result"
    }
   ],
   "source": [
    "bank_total[\"antiguedad\"].isna().sum()"
   ]
  },
  {
   "cell_type": "markdown",
   "metadata": {},
   "source": [
    "ELEMENTS FOR DATA CLEANING"
   ]
  },
  {
   "cell_type": "code",
   "execution_count": 16,
   "metadata": {},
   "outputs": [],
   "source": [
    "def transformations(df): \n",
    "    df['conyuemp'].fillna('N', inplace=True)\n",
    "    df['age'].replace(' ', '', inplace=True, regex=True)\n",
    "    #df.loc[df['age']=='NA'] = df['age'].mean()\n",
    "    df['age'] = pd.to_numeric(df['age'], errors='ignore', downcast='integer')\n",
    "    df['antiguedad'].replace(' ', '', inplace=True, regex=True)\n",
    "    df['antiguedad'].replace(' NA', 0, inplace=True)\n",
    "    df['antiguedad'].replace('NA', 0, inplace=True)\n",
    "    df['antiguedad'].replace('-999999', 0, inplace=True, regex=True)\n",
    "    df['antiguedad'] = pd.to_numeric(df['antiguedad'], errors='ignore', downcast='integer')\n",
    "    df['indrel_1mes'].replace('1.0', '1', inplace=True)\n",
    "    df['indrel_1mes'].replace('2.0', '2', inplace=True)\n",
    "    df['indrel_1mes'].replace('3.0', '3', inplace=True)\n",
    "    df['indrel_1mes'].replace('4.0', '4', inplace=True)\n",
    "    df['indrel_1mes'].replace(1.0, '1', inplace=True)\n",
    "    df['indrel_1mes'].replace(2.0, '2', inplace=True)\n",
    "    df['indrel_1mes'].replace(3.0, '3', inplace=True)\n",
    "    df['indrel_1mes'].replace(4.0, '4', inplace=True)\n",
    "    df['indrel_1mes'].replace('1.', '1', inplace=True)\n",
    "    df['indrel_1mes'].replace('2.', '2', inplace=True)\n",
    "    df['indrel_1mes'].replace('3.', '3', inplace=True)\n",
    "    df['indrel_1mes'].replace('4.', '4', inplace=True)\n",
    "    sp_cols = ['sexo', 'ult_fec_cli_1t', 'indrel_1mes', 'tiprel_1mes', 'segmento', 'canal_entrada', 'nomprov']\n",
    "    for col in sp_cols: df.loc[df[col].isnull(),col] = \"UNKNOWN\"\n",
    "    return \"Done\""
   ]
  },
  {
   "cell_type": "code",
   "execution_count": 17,
   "metadata": {},
   "outputs": [],
   "source": [
    "def nulls_dropper(df):\n",
    "    df = df.dropna(subset=['ind_nuevo', 'renta', 'ind_nomina_ult1', 'ind_nom_pens_ult1'], inplace=True)\n",
    "    #df = df.drop(['cod_prov'], axis=1, inplace=True)\n",
    "\n",
    "    return \"Done\"\n",
    "    "
   ]
  },
  {
   "cell_type": "code",
   "execution_count": 18,
   "metadata": {},
   "outputs": [
    {
     "data": {
      "text/plain": [
       "'Done'"
      ]
     },
     "execution_count": 18,
     "metadata": {},
     "output_type": "execute_result"
    }
   ],
   "source": [
    "nulls_dropper(bank_total)"
   ]
  },
  {
   "cell_type": "code",
   "execution_count": 19,
   "metadata": {},
   "outputs": [],
   "source": [
    "bank_total.drop(['cod_prov'], axis=1, inplace=True)"
   ]
  },
  {
   "cell_type": "code",
   "execution_count": 20,
   "metadata": {},
   "outputs": [
    {
     "data": {
      "text/plain": [
       "'Done'"
      ]
     },
     "execution_count": 20,
     "metadata": {},
     "output_type": "execute_result"
    }
   ],
   "source": [
    "transformations(bank_total)"
   ]
  },
  {
   "cell_type": "code",
   "execution_count": 21,
   "metadata": {},
   "outputs": [
    {
     "data": {
      "text/plain": [
       "(10852757, 47)"
      ]
     },
     "execution_count": 21,
     "metadata": {},
     "output_type": "execute_result"
    }
   ],
   "source": [
    "bank_total.shape"
   ]
  },
  {
   "cell_type": "markdown",
   "metadata": {},
   "source": [
    "Now, as aforesaid, let's fix the age"
   ]
  },
  {
   "cell_type": "code",
   "execution_count": 22,
   "metadata": {},
   "outputs": [
    {
     "name": "stdout",
     "output_type": "stream",
     "text": [
      "avg: 40\n"
     ]
    }
   ],
   "source": [
    "age_mean = int(bank_total['age'].mean())\n",
    "\n",
    "print('avg:',age_mean)"
   ]
  },
  {
   "cell_type": "code",
   "execution_count": 23,
   "metadata": {},
   "outputs": [
    {
     "data": {
      "text/plain": [
       "0    35\n",
       "1    23\n",
       "2    23\n",
       "3    22\n",
       "5    23\n",
       "Name: age, dtype: int8"
      ]
     },
     "execution_count": 23,
     "metadata": {},
     "output_type": "execute_result"
    }
   ],
   "source": [
    "age_values = bank_total['age']\n",
    "age_values.head()"
   ]
  },
  {
   "cell_type": "code",
   "execution_count": 24,
   "metadata": {},
   "outputs": [
    {
     "name": "stdout",
     "output_type": "stream",
     "text": [
      "young: 25\n",
      "CPU times: user 421 ms, sys: 4.56 ms, total: 425 ms\n",
      "Wall time: 106 ms\n"
     ]
    }
   ],
   "source": [
    "%%time\n",
    "\n",
    "young_age_mean = int(age_values.loc[(age_values >= 18) & (age_values <= 35)].mean())\n",
    "print('young:',young_age_mean)"
   ]
  },
  {
   "cell_type": "code",
   "execution_count": 25,
   "metadata": {},
   "outputs": [
    {
     "name": "stdout",
     "output_type": "stream",
     "text": [
      "old: 63\n",
      "CPU times: user 363 ms, sys: 3.46 ms, total: 367 ms\n",
      "Wall time: 91.3 ms\n"
     ]
    }
   ],
   "source": [
    "%%time\n",
    "\n",
    "old_age_mean = int(age_values.loc[(age_values >= 50) & (age_values <= 127)].mean())\n",
    "print('old:',old_age_mean)"
   ]
  },
  {
   "cell_type": "code",
   "execution_count": 26,
   "metadata": {
    "scrolled": true
   },
   "outputs": [
    {
     "name": "stdout",
     "output_type": "stream",
     "text": [
      "CPU times: user 4 µs, sys: 0 ns, total: 4 µs\n",
      "Wall time: 6.91 µs\n"
     ]
    }
   ],
   "source": [
    "%%time\n",
    "\n",
    "def age_corrector(df):\n",
    "    age_mean = 40\n",
    "    young_age_mean = 25\n",
    "    old_age_mean = 63\n",
    "    df.loc[df['age'] =='NA', 'age']  = age_mean\n",
    "    df.loc[df['age'] ==' NA', 'age']  = age_mean\n",
    "    df.loc[df['age'] < 18, 'age']  = young_age_mean\n",
    "    df.loc[df['age'] > 127, 'age'] = old_age_mean\n",
    "    return 'Done'"
   ]
  },
  {
   "cell_type": "code",
   "execution_count": 27,
   "metadata": {},
   "outputs": [
    {
     "name": "stderr",
     "output_type": "stream",
     "text": [
      "/home/alfonso/miniconda3/envs/kaggle/lib/python3.7/site-packages/pandas/core/ops.py:1649: FutureWarning: elementwise comparison failed; returning scalar instead, but in the future will perform elementwise comparison\n",
      "  result = method(y)\n"
     ]
    },
    {
     "data": {
      "text/plain": [
       "'Done'"
      ]
     },
     "execution_count": 27,
     "metadata": {},
     "output_type": "execute_result"
    }
   ],
   "source": [
    "age_corrector(bank_total)"
   ]
  },
  {
   "cell_type": "markdown",
   "metadata": {},
   "source": [
    "Now, lets check if everything is OK"
   ]
  },
  {
   "cell_type": "code",
   "execution_count": 28,
   "metadata": {},
   "outputs": [
    {
     "data": {
      "text/plain": [
       "fecha_dato               0\n",
       "ncodpers                 0\n",
       "ind_empleado             0\n",
       "pais_residencia          0\n",
       "sexo                     0\n",
       "age                      0\n",
       "fecha_alta               0\n",
       "ind_nuevo                0\n",
       "antiguedad               0\n",
       "indrel                   0\n",
       "ult_fec_cli_1t           0\n",
       "indrel_1mes              0\n",
       "tiprel_1mes              0\n",
       "indresi                  0\n",
       "indext                   0\n",
       "conyuemp                 0\n",
       "canal_entrada            0\n",
       "indfall                  0\n",
       "tipodom                  0\n",
       "nomprov                  0\n",
       "ind_actividad_cliente    0\n",
       "renta                    0\n",
       "segmento                 0\n",
       "ind_ahor_fin_ult1        0\n",
       "ind_aval_fin_ult1        0\n",
       "ind_cco_fin_ult1         0\n",
       "ind_cder_fin_ult1        0\n",
       "ind_cno_fin_ult1         0\n",
       "ind_ctju_fin_ult1        0\n",
       "ind_ctma_fin_ult1        0\n",
       "ind_ctop_fin_ult1        0\n",
       "ind_ctpp_fin_ult1        0\n",
       "ind_deco_fin_ult1        0\n",
       "ind_deme_fin_ult1        0\n",
       "ind_dela_fin_ult1        0\n",
       "ind_ecue_fin_ult1        0\n",
       "ind_fond_fin_ult1        0\n",
       "ind_hip_fin_ult1         0\n",
       "ind_plan_fin_ult1        0\n",
       "ind_pres_fin_ult1        0\n",
       "ind_reca_fin_ult1        0\n",
       "ind_tjcr_fin_ult1        0\n",
       "ind_valo_fin_ult1        0\n",
       "ind_viv_fin_ult1         0\n",
       "ind_nomina_ult1          0\n",
       "ind_nom_pens_ult1        0\n",
       "ind_recibo_ult1          0\n",
       "dtype: int64"
      ]
     },
     "execution_count": 28,
     "metadata": {},
     "output_type": "execute_result"
    }
   ],
   "source": [
    "bank_total.isna().sum()"
   ]
  },
  {
   "cell_type": "code",
   "execution_count": 29,
   "metadata": {},
   "outputs": [
    {
     "name": "stdout",
     "output_type": "stream",
     "text": [
      "fecha_dato - num unique values: 17 \n",
      " ['2015-01-28' '2015-02-28' '2015-03-28' '2015-04-28' '2015-05-28'\n",
      " '2015-06-28' '2015-07-28' '2015-08-28' '2015-09-28' '2015-10-28'\n",
      " '2015-11-28' '2015-12-28' '2016-01-28' '2016-02-28' '2016-03-28'\n",
      " '2016-04-28' '2016-05-28'] \n",
      "\n",
      "\n",
      "ncodpers - num unique values: 709411 \n",
      " [1375586 1050611 1050612 ... 1432584 1346412 1355691] \n",
      "\n",
      "\n",
      "ind_empleado - num unique values: 5 \n",
      " ['N' 'A' 'F' 'B' 'S'] \n",
      "\n",
      "\n",
      "pais_residencia - num unique values: 25 \n",
      " ['ES' 'PA' 'MX' 'IT' 'BE' 'DE' 'BO' 'PY' 'RO' 'GB' 'US' 'CH' 'QA' 'JP'\n",
      " 'DZ' 'BM' 'LU' 'CA' 'PE' 'PT' 'OM' 'FR' 'NL' 'AD' 'CL'] \n",
      "\n",
      "\n",
      "sexo - num unique values: 3 \n",
      " ['H' 'V' 'UNKNOWN'] \n",
      "\n",
      "\n",
      "age - num unique values: 102 \n",
      " [ 35  23  22  65  24  28  25  26  53  27  32  37  31  39  63  33  55  42\n",
      "  38  50  30  45  44  36  29  60  57  67  47  34  48  46  54  84  83  77\n",
      "  69  52  59  43  49  41  58  40  51  78  73  66  62  68  82  95  96  56\n",
      "  61  79  72  19  86  64  20  71  70  74  21  18  75  81  80  76  92  89\n",
      "  85  91  87  90  94  99  93  98  88  97 100 106 103 101 102 104 107 109\n",
      " 105 112 110 116 108 115 111 113 126 117 127 114] \n",
      "\n",
      "\n",
      "fecha_alta - num unique values: 6466 \n",
      " ['2015-01-12' '2012-08-10' '2012-08-16' ... '2015-09-12' '2015-09-04'\n",
      " '2015-09-06'] \n",
      "\n",
      "\n",
      "ind_nuevo - num unique values: 2 \n",
      " [0. 1.] \n",
      "\n",
      "\n",
      "antiguedad - num unique values: 257 \n",
      " [  6  35  34  33  31  21  27   9  22  13  29   8  11  10  28  24  25  14\n",
      "  26  12  16  23   7   1  18   4   3  17  32  30  20 157  36  40  19  38\n",
      "  37  39  15   0   5  47  44  42  46  45  43  41  57  52  49  50  56  58\n",
      "  51  48  55  54  53  59  62  61  60  63   2 139 165 118 164 159 143 105\n",
      " 151 162 137 150 128 122 156 119 160  79  95 132 161 127  72 155 108 163\n",
      " 102 148 115 146 107  81 135  92 121 198 134  93 140 110 120 147 116  64\n",
      "  77  85  99  78  94 113 154 133 124 141  66 117  86 193 144  87 126 158\n",
      " 101 235 145 103 149 109 131  97 166  68  84 232 125 177 112  69 171 142\n",
      " 104  76  82  70 138 169  65 129 100 114 176 153  89 136  80  83 123 187\n",
      " 106 231 189 111  88 217 172 173 167 174 209 180 152 216  98  91 199 168\n",
      "  96 130 225  67 178  73 183  74 206  71 179 184 192 190  90 194 182 185\n",
      " 195 186 207 208  75 175 201 203 212 215 170 228 214 202 196 181 191 200\n",
      " 188 227 219 226 205 224 210 242 223 233 220 218 222 241 204 211 197 213\n",
      " 237 221 229 234 240 243 230 238 246 236 244 239 245 247 248 249 250 251\n",
      " 252 253 254 255 256] \n",
      "\n",
      "\n",
      "indrel - num unique values: 2 \n",
      " [ 1. 99.] \n",
      "\n",
      "\n",
      "ult_fec_cli_1t - num unique values: 186 \n",
      " ['UNKNOWN' '2015-07-30' '2015-07-24' '2015-07-28' '2015-07-13'\n",
      " '2015-07-14' '2015-07-03' '2015-07-09' '2015-07-29' '2015-07-17'\n",
      " '2015-07-16' '2015-07-06' '2015-08-24' '2015-08-17' '2015-08-06'\n",
      " '2015-08-13' '2015-08-21' '2015-08-28' '2015-09-18' '2015-09-29'\n",
      " '2015-09-22' '2015-09-21' '2015-09-25' '2015-09-28' '2015-09-23'\n",
      " '2015-09-24' '2015-10-07' '2015-10-26' '2015-10-29' '2015-10-08'\n",
      " '2015-10-05' '2015-10-28' '2015-10-09' '2015-10-20' '2015-10-15'\n",
      " '2015-10-06' '2015-10-01' '2015-10-21' '2015-10-16' '2015-10-22'\n",
      " '2015-10-19' '2015-10-23' '2015-10-27' '2015-10-02' '2015-10-14'\n",
      " '2015-10-13' '2015-11-23' '2015-11-24' '2015-11-04' '2015-11-13'\n",
      " '2015-11-25' '2015-11-19' '2015-11-20' '2015-11-03' '2015-11-16'\n",
      " '2015-11-17' '2015-11-11' '2015-11-12' '2015-11-10' '2015-11-27'\n",
      " '2015-11-02' '2015-11-26' '2015-11-05' '2015-11-06' '2015-11-18'\n",
      " '2015-11-09' '2015-12-21' '2015-12-18' '2015-12-28' '2015-12-29'\n",
      " '2015-12-16' '2015-12-11' '2015-12-24' '2015-12-30' '2015-12-15'\n",
      " '2015-12-01' '2015-12-04' '2015-12-17' '2015-12-10' '2015-12-14'\n",
      " '2015-12-09' '2015-12-03' '2015-12-22' '2015-12-23' '2015-12-02'\n",
      " '2015-12-07' '2016-01-14' '2016-01-13' '2016-01-28' '2016-01-05'\n",
      " '2016-01-19' '2016-01-12' '2016-01-18' '2016-01-21' '2016-01-08'\n",
      " '2016-01-22' '2016-01-07' '2016-01-20' '2016-01-26' '2016-01-15'\n",
      " '2016-01-27' '2016-01-11' '2016-01-25' '2016-01-04' '2016-02-23'\n",
      " '2016-02-19' '2016-02-18' '2016-02-26' '2016-02-12' '2016-02-24'\n",
      " '2016-02-09' '2016-02-08' '2016-02-11' '2016-02-05' '2016-02-04'\n",
      " '2016-02-03' '2016-02-15' '2016-02-22' '2016-02-10' '2016-02-16'\n",
      " '2016-02-01' '2016-02-17' '2016-02-02' '2016-02-25' '2016-03-07'\n",
      " '2016-03-10' '2016-03-18' '2016-03-14' '2016-03-22' '2016-03-21'\n",
      " '2016-03-29' '2016-03-01' '2016-03-23' '2016-03-02' '2016-03-24'\n",
      " '2016-03-09' '2016-03-11' '2016-03-28' '2016-03-15' '2016-03-17'\n",
      " '2016-03-04' '2016-03-16' '2016-03-30' '2016-03-03' '2016-03-08'\n",
      " '2016-04-22' '2016-04-01' '2016-04-06' '2016-04-05' '2016-04-13'\n",
      " '2016-04-19' '2016-04-04' '2016-04-12' '2016-04-18' '2016-04-26'\n",
      " '2016-04-25' '2016-04-27' '2016-04-11' '2016-04-07' '2016-04-21'\n",
      " '2016-04-28' '2016-04-20' '2016-04-15' '2016-04-08' '2016-04-14'\n",
      " '2016-05-23' '2016-05-05' '2016-05-17' '2016-05-19' '2016-05-12'\n",
      " '2016-05-06' '2016-05-02' '2016-05-18' '2016-05-04' '2016-05-16'\n",
      " '2016-05-03' '2016-05-13' '2016-05-27' '2016-05-10' '2016-05-24'\n",
      " '2016-05-20' '2016-05-25' '2016-05-11' '2016-05-30' '2016-05-09'\n",
      " '2016-05-26'] \n",
      "\n",
      "\n",
      "indrel_1mes - num unique values: 6 \n",
      " ['1' '3' 'UNKNOWN' '2' 'P' '4'] \n",
      "\n",
      "\n",
      "tiprel_1mes - num unique values: 5 \n",
      " ['A' 'I' 'P' 'UNKNOWN' 'R'] \n",
      "\n",
      "\n",
      "indresi - num unique values: 2 \n",
      " ['S' 'N'] \n",
      "\n",
      "\n",
      "indext - num unique values: 2 \n",
      " ['N' 'S'] \n",
      "\n",
      "\n",
      "conyuemp - num unique values: 2 \n",
      " ['N' 'S'] \n",
      "\n",
      "\n",
      "canal_entrada - num unique values: 158 \n",
      " ['KHL' 'KHE' 'KHD' 'KFA' 'KFC' 'KAT' 'RED' 'KAZ' 'KHC' 'KHK' 'KHM' 'KHO'\n",
      " 'KDH' 'KEH' 'KAD' 'KBG' 'KGC' 'UNKNOWN' 'KHF' 'KFK' 'KHA' 'KAF' 'KGX'\n",
      " 'KFD' 'KAG' 'KFG' 'KAB' 'KCC' 'KAE' 'KAH' 'KAR' 'KFJ' 'KFU' 'KAQ' 'KHN'\n",
      " 'KFS' 'KAA' 'KFP' 'KAJ' 'KFN' 'KGV' 'KGY' 'KAP' 'KFF' 'KFL' 'KAI' 'KDE'\n",
      " 'KFV' '013' 'K00' 'KAK' 'KCK' 'KCL' 'KAY' 'KBU' 'KDR' 'KDT' 'KCG' 'KDO'\n",
      " 'KBQ' 'KDA' 'KBO' 'KEC' 'KES' 'KBZ' 'KAS' '007' 'KEU' 'KCA' 'KAL' 'KDC'\n",
      " 'KAW' 'KCI' 'KAC' 'KCS' 'KCB' 'KDU' 'KDQ' 'KCN' 'KCM' '004' 'KCH' 'KCD'\n",
      " 'KCE' 'KDY' 'KEA' 'KBL' 'KBH' 'KDV' 'KFT' 'KEY' 'KAO' 'KEJ' 'KEO' 'KEV'\n",
      " 'KEI' 'KEW' 'KDZ' 'KBV' 'KBR' 'KBF' 'KDP' 'KCO' 'KCF' 'KCV' 'KAM' 'KBD'\n",
      " 'KAN' 'KBY' 'KDX' 'KDD' 'KBW' 'KBX' 'KCU' 'KDB' 'KBS' 'KBE' 'KCX' 'KBP'\n",
      " 'KEB' 'KDS' 'KEL' 'KDG' 'KDF' 'KEF' 'KCP' 'KDM' 'KBB' 'KEZ' 'KBJ' 'KFI'\n",
      " 'KBM' 'KDW' 'KEG' 'KEN' 'KEQ' 'KAV' 'KFH' 'KAU' 'KED' 'KEK' 'KGW' 'KFM'\n",
      " 'KFE' 'KGU' 'KDI' 'KFB' 'KDN' 'KCR' 'KCQ' 'KEM' 'KEE' 'KCJ' 'KHQ' 'KDL'\n",
      " 'KBN' 'KCT' 'KHP'] \n",
      "\n",
      "\n",
      "indfall - num unique values: 2 \n",
      " ['N' 'S'] \n",
      "\n",
      "\n",
      "tipodom - num unique values: 1 \n",
      " [1.] \n",
      "\n",
      "\n",
      "nomprov - num unique values: 53 \n",
      " ['MALAGA' 'CIUDAD REAL' 'ZARAGOZA' 'TOLEDO' 'LEON' 'CACERES' 'ZAMORA'\n",
      " 'SALAMANCA' 'HUESCA' 'AVILA' 'SEGOVIA' 'LUGO' 'BARCELONA' 'MADRID'\n",
      " 'ALICANTE' 'SORIA' 'SEVILLA' 'CANTABRIA' 'BALEARS, ILLES' 'VALLADOLID'\n",
      " 'PONTEVEDRA' 'VALENCIA' 'TERUEL' 'CORUÑA, A' 'OURENSE' 'JAEN' 'GIRONA'\n",
      " 'RIOJA, LA' 'ALBACETE' 'BURGOS' 'MURCIA' 'CADIZ' 'BADAJOZ' 'CUENCA'\n",
      " 'ALMERIA' 'GUADALAJARA' 'PALENCIA' 'CASTELLON' 'PALMAS, LAS' 'CORDOBA'\n",
      " 'LERIDA' 'HUELVA' 'GRANADA' 'ASTURIAS' 'SANTA CRUZ DE TENERIFE' 'MELILLA'\n",
      " 'TARRAGONA' 'CEUTA' 'NAVARRA' 'GIPUZKOA' 'UNKNOWN' 'BIZKAIA' 'ALAVA'] \n",
      "\n",
      "\n",
      "ind_actividad_cliente - num unique values: 2 \n",
      " [1. 0.] \n",
      "\n",
      "\n",
      "renta - num unique values: 520988 \n",
      " [ 87218.1015625   35548.73828125 122179.109375   ...  63867.66015625\n",
      "  34341.1796875   89018.3671875 ] \n",
      "\n",
      "\n",
      "segmento - num unique values: 4 \n",
      " ['02 - PARTICULARES' '03 - UNIVERSITARIO' '01 - TOP' 'UNKNOWN'] \n",
      "\n",
      "\n",
      "ind_ahor_fin_ult1 - num unique values: 2 \n",
      " [0 1] \n",
      "\n",
      "\n",
      "ind_aval_fin_ult1 - num unique values: 2 \n",
      " [0 1] \n",
      "\n",
      "\n",
      "ind_cco_fin_ult1 - num unique values: 2 \n",
      " [1 0] \n",
      "\n",
      "\n",
      "ind_cder_fin_ult1 - num unique values: 2 \n",
      " [0 1] \n",
      "\n",
      "\n",
      "ind_cno_fin_ult1 - num unique values: 2 \n",
      " [0 1] \n",
      "\n",
      "\n",
      "ind_ctju_fin_ult1 - num unique values: 2 \n",
      " [0 1] \n",
      "\n",
      "\n",
      "ind_ctma_fin_ult1 - num unique values: 2 \n",
      " [0 1] \n",
      "\n",
      "\n",
      "ind_ctop_fin_ult1 - num unique values: 2 \n",
      " [0 1] \n",
      "\n",
      "\n",
      "ind_ctpp_fin_ult1 - num unique values: 2 \n",
      " [0 1] \n",
      "\n",
      "\n",
      "ind_deco_fin_ult1 - num unique values: 2 \n",
      " [0 1] \n",
      "\n",
      "\n",
      "ind_deme_fin_ult1 - num unique values: 2 \n",
      " [0 1] \n",
      "\n",
      "\n",
      "ind_dela_fin_ult1 - num unique values: 2 \n",
      " [0 1] \n",
      "\n",
      "\n",
      "ind_ecue_fin_ult1 - num unique values: 2 \n",
      " [0 1] \n",
      "\n",
      "\n",
      "ind_fond_fin_ult1 - num unique values: 2 \n",
      " [0 1] \n",
      "\n",
      "\n",
      "ind_hip_fin_ult1 - num unique values: 2 \n",
      " [0 1] \n",
      "\n",
      "\n",
      "ind_plan_fin_ult1 - num unique values: 2 \n",
      " [0 1] \n",
      "\n",
      "\n",
      "ind_pres_fin_ult1 - num unique values: 2 \n",
      " [0 1] \n",
      "\n",
      "\n",
      "ind_reca_fin_ult1 - num unique values: 2 \n",
      " [0 1] \n",
      "\n",
      "\n",
      "ind_tjcr_fin_ult1 - num unique values: 2 \n",
      " [0 1] \n",
      "\n",
      "\n",
      "ind_valo_fin_ult1 - num unique values: 2 \n",
      " [0 1] \n",
      "\n",
      "\n"
     ]
    },
    {
     "name": "stdout",
     "output_type": "stream",
     "text": [
      "ind_viv_fin_ult1 - num unique values: 2 \n",
      " [0 1] \n",
      "\n",
      "\n",
      "ind_nomina_ult1 - num unique values: 2 \n",
      " [0. 1.] \n",
      "\n",
      "\n",
      "ind_nom_pens_ult1 - num unique values: 2 \n",
      " [0. 1.] \n",
      "\n",
      "\n",
      "ind_recibo_ult1 - num unique values: 2 \n",
      " [0 1] \n",
      "\n",
      "\n"
     ]
    }
   ],
   "source": [
    "all_columns = ['fecha_dato', 'ncodpers', 'ind_empleado', 'pais_residencia', 'sexo',\n",
    "       'age', 'fecha_alta', 'ind_nuevo', 'antiguedad', 'indrel',\n",
    "       'ult_fec_cli_1t', 'indrel_1mes', 'tiprel_1mes', 'indresi', 'indext',\n",
    "       'conyuemp', 'canal_entrada', 'indfall', 'tipodom',\n",
    "       'nomprov', 'ind_actividad_cliente', 'renta', 'segmento',\n",
    "       'ind_ahor_fin_ult1', 'ind_aval_fin_ult1', 'ind_cco_fin_ult1',\n",
    "       'ind_cder_fin_ult1', 'ind_cno_fin_ult1', 'ind_ctju_fin_ult1',\n",
    "       'ind_ctma_fin_ult1', 'ind_ctop_fin_ult1', 'ind_ctpp_fin_ult1',\n",
    "       'ind_deco_fin_ult1', 'ind_deme_fin_ult1', 'ind_dela_fin_ult1',\n",
    "       'ind_ecue_fin_ult1', 'ind_fond_fin_ult1', 'ind_hip_fin_ult1',\n",
    "       'ind_plan_fin_ult1', 'ind_pres_fin_ult1', 'ind_reca_fin_ult1',\n",
    "       'ind_tjcr_fin_ult1', 'ind_valo_fin_ult1', 'ind_viv_fin_ult1',\n",
    "       'ind_nomina_ult1', 'ind_nom_pens_ult1', 'ind_recibo_ult1']\n",
    "for col in all_columns:\n",
    "    print(col, '- num unique values:', bank_total[col].nunique(), '\\n', bank_total[col].unique(), '\\n\\n')"
   ]
  },
  {
   "cell_type": "markdown",
   "metadata": {},
   "source": [
    "### <font color=blue> Cleaning done!! Now I'm going to save the cleaned file. </font>\n",
    "\n",
    "###### <font color=grey> First I will save it as csv (with column formats in another file) and then I will save it in parquet format.\n",
    "</font>"
   ]
  },
  {
   "cell_type": "code",
   "execution_count": 30,
   "metadata": {},
   "outputs": [
    {
     "name": "stdout",
     "output_type": "stream",
     "text": [
      "{'fecha_dato': 'object', 'ncodpers': 'int32', 'ind_empleado': 'object', 'pais_residencia': 'object', 'sexo': 'object', 'age': 'int8', 'fecha_alta': 'object', 'ind_nuevo': 'float32', 'antiguedad': 'int16', 'indrel': 'float32', 'ult_fec_cli_1t': 'object', 'indrel_1mes': 'object', 'tiprel_1mes': 'object', 'indresi': 'object', 'indext': 'object', 'conyuemp': 'object', 'canal_entrada': 'object', 'indfall': 'object', 'tipodom': 'float32', 'nomprov': 'object', 'ind_actividad_cliente': 'float32', 'renta': 'float32', 'segmento': 'object', 'ind_ahor_fin_ult1': 'int8', 'ind_aval_fin_ult1': 'int8', 'ind_cco_fin_ult1': 'int8', 'ind_cder_fin_ult1': 'int8', 'ind_cno_fin_ult1': 'int8', 'ind_ctju_fin_ult1': 'int8', 'ind_ctma_fin_ult1': 'int8', 'ind_ctop_fin_ult1': 'int8', 'ind_ctpp_fin_ult1': 'int8', 'ind_deco_fin_ult1': 'int8', 'ind_deme_fin_ult1': 'int8', 'ind_dela_fin_ult1': 'int8', 'ind_ecue_fin_ult1': 'int8', 'ind_fond_fin_ult1': 'int8', 'ind_hip_fin_ult1': 'int8', 'ind_plan_fin_ult1': 'int8', 'ind_pres_fin_ult1': 'int8', 'ind_reca_fin_ult1': 'int8', 'ind_tjcr_fin_ult1': 'int8', 'ind_valo_fin_ult1': 'int8', 'ind_viv_fin_ult1': 'int8', 'ind_nomina_ult1': 'float32', 'ind_nom_pens_ult1': 'float32', 'ind_recibo_ult1': 'int8'}\n"
     ]
    }
   ],
   "source": [
    "file_format = bank_total.dtypes.apply(lambda x: x.name).to_dict()\n",
    "print(file_format)"
   ]
  },
  {
   "cell_type": "code",
   "execution_count": 31,
   "metadata": {},
   "outputs": [],
   "source": [
    "import pickle\n",
    "\n",
    "with open('./data/fileformat.pickle', 'wb') as handle:\n",
    "    pickle.dump(file_format, handle, protocol=pickle.HIGHEST_PROTOCOL)"
   ]
  },
  {
   "cell_type": "markdown",
   "metadata": {},
   "source": [
    "Now, lets save the dataframe:"
   ]
  },
  {
   "cell_type": "code",
   "execution_count": 32,
   "metadata": {},
   "outputs": [],
   "source": [
    "bank_total.to_csv('./data/clean_train.csv')"
   ]
  },
  {
   "cell_type": "code",
   "execution_count": 33,
   "metadata": {},
   "outputs": [
    {
     "name": "stderr",
     "output_type": "stream",
     "text": [
      "/home/alfonso/miniconda3/envs/kaggle/lib/python3.7/site-packages/pyarrow/pandas_compat.py:114: FutureWarning: A future version of pandas will default to `skipna=True`. To silence this warning, pass `skipna=True|False` explicitly.\n",
      "  result = infer_dtype(pandas_collection)\n"
     ]
    },
    {
     "data": {
      "text/plain": [
       "pyarrow.lib.Table"
      ]
     },
     "execution_count": 33,
     "metadata": {},
     "output_type": "execute_result"
    }
   ],
   "source": [
    "import pyarrow as pa\n",
    "\n",
    "table = pa.Table.from_pandas(bank_total)\n",
    "type(table)"
   ]
  },
  {
   "cell_type": "code",
   "execution_count": 34,
   "metadata": {},
   "outputs": [],
   "source": [
    "import pyarrow.parquet as pq\n",
    "\n",
    "\n",
    "pq.write_table(table, './data/clean_train.parquet')"
   ]
  },
  {
   "cell_type": "markdown",
   "metadata": {},
   "source": [
    "##### After making some tests I decide I have to work with part of dataframe since it is still too heavy, so let's select part of dataframe and save it.\n",
    "\n",
    "After reviewing other's people kernel, I've found:\n",
    "\n",
    "* Almost all people has trained without all data provided, just with a percentage they considered, at least Python users.\n",
    "* Lots of people followed an principle called \"When Less is more\" established by user BreakfastPirate, that mentions the benefit of using accounts that added a new product on June 2015 as training, since we are only trying to predict which products they would add if they did.\n",
    "* Lots of people has solved it using Xgboost model.\n",
    "* Some people has mentioned that recommending the smallest classes wastes recommendations.\n"
   ]
  },
  {
   "cell_type": "code",
   "execution_count": 35,
   "metadata": {},
   "outputs": [
    {
     "data": {
      "text/plain": [
       "(1045683, 47)"
      ]
     },
     "execution_count": 35,
     "metadata": {},
     "output_type": "execute_result"
    }
   ],
   "source": [
    "selected = ['2015-05-28', '2015-06-28']\n",
    "bank_sample = bank_total[bank_total['fecha_dato'].isin(selected)]\n",
    "table_sample = pa.Table.from_pandas(bank_sample)\n",
    "bank_sample.shape"
   ]
  },
  {
   "cell_type": "code",
   "execution_count": 36,
   "metadata": {},
   "outputs": [],
   "source": [
    "pq.write_table(table_sample, './data/clean_train_sample.parquet')"
   ]
  },
  {
   "cell_type": "markdown",
   "metadata": {},
   "source": [
    "Option old"
   ]
  },
  {
   "cell_type": "markdown",
   "metadata": {},
   "source": [
    "selection = pd.Series(bank_total.ncodpers.unique()).sample(frac=0.1).values\n",
    "selection"
   ]
  },
  {
   "cell_type": "markdown",
   "metadata": {},
   "source": [
    "bank_sample = bank_total[bank_total['ncodpers'].isin(selection)]"
   ]
  },
  {
   "cell_type": "markdown",
   "metadata": {},
   "source": [
    "table_sample = pa.Table.from_pandas(bank_sample)"
   ]
  },
  {
   "cell_type": "markdown",
   "metadata": {},
   "source": [
    "pq.write_table(table_sample, './data/clean_train_sample.parquet')"
   ]
  },
  {
   "cell_type": "markdown",
   "metadata": {},
   "source": [
    "### Here I check and transform the test file"
   ]
  },
  {
   "cell_type": "code",
   "execution_count": 37,
   "metadata": {},
   "outputs": [
    {
     "name": "stderr",
     "output_type": "stream",
     "text": [
      "/home/alfonso/miniconda3/envs/kaggle/lib/python3.7/site-packages/IPython/core/interactiveshell.py:3057: DtypeWarning: Columns (15) have mixed types. Specify dtype option on import or set low_memory=False.\n",
      "  interactivity=interactivity, compiler=compiler, result=result)\n"
     ]
    }
   ],
   "source": [
    "test = pd.read_csv('./data/test_ver2.csv')"
   ]
  },
  {
   "cell_type": "code",
   "execution_count": 38,
   "metadata": {},
   "outputs": [],
   "source": [
    "test.drop(['cod_prov'], axis=1, inplace=True)"
   ]
  },
  {
   "cell_type": "code",
   "execution_count": 39,
   "metadata": {},
   "outputs": [
    {
     "data": {
      "text/plain": [
       "'Done'"
      ]
     },
     "execution_count": 39,
     "metadata": {},
     "output_type": "execute_result"
    }
   ],
   "source": [
    "transformations(test)"
   ]
  },
  {
   "cell_type": "code",
   "execution_count": 40,
   "metadata": {},
   "outputs": [
    {
     "name": "stderr",
     "output_type": "stream",
     "text": [
      "/home/alfonso/miniconda3/envs/kaggle/lib/python3.7/site-packages/pandas/core/ops.py:1649: FutureWarning: elementwise comparison failed; returning scalar instead, but in the future will perform elementwise comparison\n",
      "  result = method(y)\n"
     ]
    },
    {
     "data": {
      "text/plain": [
       "'Done'"
      ]
     },
     "execution_count": 40,
     "metadata": {},
     "output_type": "execute_result"
    }
   ],
   "source": [
    "age_corrector(test)"
   ]
  },
  {
   "cell_type": "code",
   "execution_count": 41,
   "metadata": {},
   "outputs": [
    {
     "data": {
      "text/plain": [
       "fecha_dato               0\n",
       "ncodpers                 0\n",
       "ind_empleado             0\n",
       "pais_residencia          0\n",
       "sexo                     0\n",
       "age                      0\n",
       "fecha_alta               0\n",
       "ind_nuevo                0\n",
       "antiguedad               0\n",
       "indrel                   0\n",
       "ult_fec_cli_1t           0\n",
       "indrel_1mes              0\n",
       "tiprel_1mes              0\n",
       "indresi                  0\n",
       "indext                   0\n",
       "conyuemp                 0\n",
       "canal_entrada            0\n",
       "indfall                  0\n",
       "tipodom                  0\n",
       "nomprov                  0\n",
       "ind_actividad_cliente    0\n",
       "renta                    0\n",
       "segmento                 0\n",
       "dtype: int64"
      ]
     },
     "execution_count": 41,
     "metadata": {},
     "output_type": "execute_result"
    }
   ],
   "source": [
    "test.isnull().sum()"
   ]
  },
  {
   "cell_type": "code",
   "execution_count": 42,
   "metadata": {},
   "outputs": [
    {
     "data": {
      "text/plain": [
       "(929615, 23)"
      ]
     },
     "execution_count": 42,
     "metadata": {},
     "output_type": "execute_result"
    }
   ],
   "source": [
    "test.shape"
   ]
  },
  {
   "cell_type": "code",
   "execution_count": 43,
   "metadata": {},
   "outputs": [
    {
     "data": {
      "text/plain": [
       "fecha_dato               object\n",
       "ncodpers                  int64\n",
       "ind_empleado             object\n",
       "pais_residencia          object\n",
       "sexo                     object\n",
       "age                       int16\n",
       "fecha_alta               object\n",
       "ind_nuevo                 int64\n",
       "antiguedad                int32\n",
       "indrel                    int64\n",
       "ult_fec_cli_1t           object\n",
       "indrel_1mes              object\n",
       "tiprel_1mes              object\n",
       "indresi                  object\n",
       "indext                   object\n",
       "conyuemp                 object\n",
       "canal_entrada            object\n",
       "indfall                  object\n",
       "tipodom                   int64\n",
       "nomprov                  object\n",
       "ind_actividad_cliente     int64\n",
       "renta                    object\n",
       "segmento                 object\n",
       "dtype: object"
      ]
     },
     "execution_count": 43,
     "metadata": {},
     "output_type": "execute_result"
    }
   ],
   "source": [
    "test.dtypes"
   ]
  },
  {
   "cell_type": "code",
   "execution_count": 44,
   "metadata": {},
   "outputs": [
    {
     "data": {
      "text/plain": [
       "array(['1', '3', 'UNKNOWN'], dtype=object)"
      ]
     },
     "execution_count": 44,
     "metadata": {},
     "output_type": "execute_result"
    }
   ],
   "source": [
    "test['indrel_1mes'].unique()"
   ]
  },
  {
   "cell_type": "code",
   "execution_count": 45,
   "metadata": {},
   "outputs": [
    {
     "data": {
      "text/plain": [
       "array(['1', '3', 'UNKNOWN', '2', 'P', '4'], dtype=object)"
      ]
     },
     "execution_count": 45,
     "metadata": {},
     "output_type": "execute_result"
    }
   ],
   "source": [
    "bank_total['indrel_1mes'].unique()"
   ]
  },
  {
   "cell_type": "code",
   "execution_count": 46,
   "metadata": {},
   "outputs": [
    {
     "name": "stderr",
     "output_type": "stream",
     "text": [
      "/home/alfonso/miniconda3/envs/kaggle/lib/python3.7/site-packages/pyarrow/pandas_compat.py:114: FutureWarning: A future version of pandas will default to `skipna=True`. To silence this warning, pass `skipna=True|False` explicitly.\n",
      "  result = infer_dtype(pandas_collection)\n"
     ]
    }
   ],
   "source": [
    "test_clean = pa.Table.from_pandas(test)"
   ]
  },
  {
   "cell_type": "code",
   "execution_count": 47,
   "metadata": {},
   "outputs": [],
   "source": [
    "pq.write_table(test_clean, './data/clean_test.parquet')"
   ]
  },
  {
   "cell_type": "code",
   "execution_count": 49,
   "metadata": {},
   "outputs": [],
   "source": [
    "test.to_csv('./data/clean_test.csv')"
   ]
  },
  {
   "cell_type": "code",
   "execution_count": null,
   "metadata": {},
   "outputs": [],
   "source": []
  }
 ],
 "metadata": {
  "kernelspec": {
   "display_name": "Python 3",
   "language": "python",
   "name": "python3"
  },
  "language_info": {
   "codemirror_mode": {
    "name": "ipython",
    "version": 3
   },
   "file_extension": ".py",
   "mimetype": "text/x-python",
   "name": "python",
   "nbconvert_exporter": "python",
   "pygments_lexer": "ipython3",
   "version": "3.7.3"
  }
 },
 "nbformat": 4,
 "nbformat_minor": 2
}
